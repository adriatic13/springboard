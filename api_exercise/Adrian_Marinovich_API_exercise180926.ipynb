{
 "cells": [
  {
   "cell_type": "code",
   "execution_count": null,
   "metadata": {},
   "outputs": [],
   "source": [
    "# Adrian Marinovich\n",
    "# Springboard - Data Science Career Track\n",
    "# API Exercise\n",
    "# September 6, 2018 (revised Sept 26, 2018)"
   ]
  },
  {
   "cell_type": "markdown",
   "metadata": {},
   "source": [
    "This exercise will require you to pull some data from the Qunadl API. Qaundl is currently the most widely used aggregator of financial market data."
   ]
  },
  {
   "cell_type": "markdown",
   "metadata": {},
   "source": [
    "As a first step, you will need to register a free account on the http://www.quandl.com website."
   ]
  },
  {
   "cell_type": "markdown",
   "metadata": {},
   "source": [
    "After you register, you will be provided with a unique API key, that you should store:"
   ]
  },
  {
   "cell_type": "code",
   "execution_count": 11,
   "metadata": {},
   "outputs": [],
   "source": [
    "# Store the API key as a string - according to PEP8, constants are always named in all upper case\n",
    "API_KEY = ''"
   ]
  },
  {
   "cell_type": "markdown",
   "metadata": {},
   "source": [
    "Qaundl has a large number of data sources, but, unfortunately, most of them require a Premium subscription. Still, there are also a good number of free datasets."
   ]
  },
  {
   "cell_type": "markdown",
   "metadata": {},
   "source": [
    "For this mini project, we will focus on equities data from the Frankfurt Stock Exhange (FSE), which is available for free. We'll try and analyze the stock prices of a company called Carl Zeiss Meditec, which manufactures tools for eye examinations, as well as medical lasers for laser eye surgery: https://www.zeiss.com/meditec/int/home.html. The company is listed under the stock ticker AFX_X."
   ]
  },
  {
   "cell_type": "markdown",
   "metadata": {},
   "source": [
    "You can find the detailed Quandl API instructions here: https://docs.quandl.com/docs/time-series"
   ]
  },
  {
   "cell_type": "markdown",
   "metadata": {},
   "source": [
    "While there is a dedicated Python package for connecting to the Quandl API, we would prefer that you use the *requests* package, which can be easily downloaded using *pip* or *conda*. You can find the documentation for the package here: http://docs.python-requests.org/en/master/ "
   ]
  },
  {
   "cell_type": "markdown",
   "metadata": {},
   "source": [
    "Finally, apart from the *requests* package, you are encouraged to not use any third party Python packages, such as *pandas*, and instead focus on what's available in the Python Standard Library (the *collections* module might come in handy: https://pymotw.com/3/collections/).\n",
    "Also, since you won't have access to DataFrames, you are encouraged to us Python's native data structures - preferably dictionaries, though some questions can also be answered using lists.\n",
    "You can read more on these data structures here: https://docs.python.org/3/tutorial/datastructures.html"
   ]
  },
  {
   "cell_type": "markdown",
   "metadata": {},
   "source": [
    "Keep in mind that the JSON responses you will be getting from the API map almost one-to-one to Python's dictionaries. Unfortunately, they can be very nested, so make sure you read up on indexing dictionaries in the documentation provided above."
   ]
  },
  {
   "cell_type": "code",
   "execution_count": 12,
   "metadata": {},
   "outputs": [],
   "source": [
    "# First, import the relevant modules\n",
    "\n",
    "import requests"
   ]
  },
  {
   "cell_type": "code",
   "execution_count": 13,
   "metadata": {},
   "outputs": [
    {
     "name": "stdout",
     "output_type": "stream",
     "text": [
      "dataset:  {'id': 10095370, 'dataset_code': 'AFX_X', 'database_code': 'FSE', 'name': 'Carl Zeiss Meditec (AFX_X)', 'description': 'Stock Prices for Carl Zeiss Meditec (AFX) from the Frankfurt Stock Exchange.<br><br>Trading System: Xetra<br><br>ISIN: DE0005313704', 'refreshed_at': '2018-09-26T22:28:47.278Z', 'newest_available_date': '2018-09-26', 'oldest_available_date': '2000-06-07', 'column_names': ['Date', 'Open', 'High', 'Low', 'Close', 'Change', 'Traded Volume', 'Turnover', 'Last Price of the Day', 'Daily Traded Units', 'Daily Turnover'], 'frequency': 'daily', 'type': 'Time Series', 'premium': False, 'limit': None, 'transform': None, 'column_index': None, 'start_date': '2018-09-05', 'end_date': '2018-09-05', 'data': [['2018-09-05', None, 75.95, 74.65, 75.3, None, 103213.0, 7777480.0, None, None, None]], 'collapse': None, 'order': None, 'database_id': 6129}\n"
     ]
    }
   ],
   "source": [
    "# Now, call the Quandl API and pull out a small sample of the data (only one day) to get a glimpse\n",
    "# into the JSON structure that will be returned\n",
    "#\n",
    "#     Note that actual API key must be entered in API_KEY variable above\n",
    "#\n",
    "\n",
    "url = \"https://www.quandl.com/api/v3/datasets/FSE/AFX_X?start_date=2018-09-05&end_date=2018-09-05&api_key=%s\" \n",
    "r = requests.get(url % API_KEY)\n",
    "json_data = r.json()\n",
    "for k in json_data.keys():\n",
    "    print(k + ': ', json_data[k])"
   ]
  },
  {
   "cell_type": "code",
   "execution_count": 3,
   "metadata": {},
   "outputs": [],
   "source": [
    "# Inspect the JSON structure of the object you created, and take note of how nested it is,\n",
    "# as well as the overall structure\n",
    "\n",
    "# See above output..."
   ]
  },
  {
   "cell_type": "markdown",
   "metadata": {},
   "source": [
    "These are your tasks for this mini project:\n",
    "\n",
    "1. Collect data from the Franfurt Stock Exchange, for the ticker AFX_X, for the whole year 2017 (keep in mind that the date format is YYYY-MM-DD).\n",
    "2. Convert the returned JSON object into a Python dictionary.\n",
    "3. Calculate what the highest and lowest opening prices were for the stock in this period.\n",
    "4. What was the largest change in any one day (based on High and Low price)?\n",
    "5. What was the largest change between any two days (based on Closing Price)?\n",
    "6. What was the average daily trading volume during this year?\n",
    "7. (Optional) What was the median trading volume during this year. (Note: you may need to implement your own function for calculating the median.)"
   ]
  },
  {
   "cell_type": "code",
   "execution_count": 14,
   "metadata": {},
   "outputs": [],
   "source": [
    "# 1. Collect data from the Franfurt Stock Exchange, for the ticker AFX_X, \n",
    "#    for the whole year 2017 (keep in mind that the date format is YYYY-MM-DD).\n",
    "#\n",
    "#      and\n",
    "#\n",
    "# 2. Convert the returned JSON object into a Python dictionary.\n",
    "\n",
    "# Collect data\n",
    "#     Note that actual API key must be entered in API_KEY variable above\n",
    "url = \"https://www.quandl.com/api/v3/datasets/FSE/AFX_X?start_date=2017-01-01&end_date=2017-12-31&api_key=%s\"\n",
    "r = requests.get(url % API_KEY)\n",
    "\n",
    "# Convert to dict\n",
    "afx_dict = r.json()\n",
    "\n",
    "# View data, as necessary\n",
    "#for i in afx_dict:\n",
    "#    print(i, afx_dict[i])"
   ]
  },
  {
   "cell_type": "code",
   "execution_count": 15,
   "metadata": {},
   "outputs": [
    {
     "name": "stdout",
     "output_type": "stream",
     "text": [
      "The maximum opening price was:  53.11\n",
      "The minimum opening price was:  34.0\n"
     ]
    }
   ],
   "source": [
    "# 3. Calculate what the highest and lowest opening prices \n",
    "#    were for the stock in this period.\n",
    "\n",
    "# Obtain data from dictionary, as a list of lists\n",
    "#\n",
    "#   Note the entries in each data list correspond to these 'column_names': \n",
    "#    ['Date', 'Open', 'High', 'Low', 'Close', 'Change', \n",
    "#     'Traded Volume', 'Turnover', 'Last Price of the Day', \n",
    "#     'Daily Traded Units', 'Daily Turnover']\n",
    "#\n",
    "afx_data=afx_dict.get('dataset').get('data')\n",
    "\n",
    "# Obtain list of opening prices from this list of lists, \n",
    "#   while removing Nonetype values\n",
    "afx_open=[sub[1] for sub in afx_data if sub[1] is not None]\n",
    "\n",
    "# Print max and min values from this list\n",
    "print('The maximum opening price was: ',  max(afx_open))\n",
    "print('The minimum opening price was: ',  min(afx_open))"
   ]
  },
  {
   "cell_type": "code",
   "execution_count": 16,
   "metadata": {},
   "outputs": [
    {
     "name": "stdout",
     "output_type": "stream",
     "text": [
      "The largest change in any one day was:  2.8100000000000023\n"
     ]
    }
   ],
   "source": [
    "# 4. What was the largest change in any one day \n",
    "#    (based on High and Low price)?\n",
    "\n",
    "# Obtain list of calculated High-Low changes from afx_data list of lists, \n",
    "#   while removing Nonetype values\n",
    "afx_delta=[sub[2]-sub[3] for sub in afx_data if sub[2] is not None and sub[3] is not None]\n",
    "\n",
    "# Print the largest change from this list\n",
    "print('The largest change in any one day was: ',  max(afx_delta))"
   ]
  },
  {
   "cell_type": "code",
   "execution_count": 17,
   "metadata": {},
   "outputs": [
    {
     "name": "stdout",
     "output_type": "stream",
     "text": [
      "The largest change between any two days was:  2.559999999999995\n"
     ]
    }
   ],
   "source": [
    "# 5. What was the largest change between any two days \n",
    "#    (based on Closing Price)?\n",
    "\n",
    "# Obtain list of closing prices from afx_data list of lists, \n",
    "#   while removing Nonetype values\n",
    "afx_close=[sub[4] for sub in afx_data if sub[4] is not None]\n",
    "\n",
    "# Create list of day-to-day differences\n",
    "afx_delta2=[abs(afx_close[i]-afx_close[i+1]) for i in range(len(afx_close) - 1)]\n",
    "\n",
    "# Print the largest change from this list\n",
    "print('The largest change between any two days was: ',  max(afx_delta2))"
   ]
  },
  {
   "cell_type": "code",
   "execution_count": 18,
   "metadata": {},
   "outputs": [
    {
     "name": "stdout",
     "output_type": "stream",
     "text": [
      "The average daily trading volume for the year was:  89124.33725490196\n"
     ]
    }
   ],
   "source": [
    "# 6. What was the average daily trading volume during this year?\n",
    "\n",
    "# Obtain list of trading volumes from afx_data list of lists, \n",
    "#   while removing Nonetype values\n",
    "afx_vol=[sub[6] for sub in afx_data if sub[6] is not None]\n",
    "\n",
    "# Print the average volume from this list\n",
    "print('The average daily trading volume for the year was: ', sum(afx_vol)/len(afx_vol))"
   ]
  },
  {
   "cell_type": "code",
   "execution_count": 19,
   "metadata": {},
   "outputs": [
    {
     "name": "stdout",
     "output_type": "stream",
     "text": [
      "The median daily trading volume for the year was:  76286.0\n"
     ]
    }
   ],
   "source": [
    "# 7. (Optional) What was the median trading volume during this year. \n",
    "#    (Note: you may need to implement your own function for calculating \n",
    "#     the median.)\n",
    "\n",
    "# Obtain list of trading volumes from afx_data list of lists, \n",
    "#   while removing Nonetype values\n",
    "afx_vol=[sub[6] for sub in afx_data if sub[6] is not None]\n",
    "\n",
    "# Create function to obtain median\n",
    "def median_li(li):\n",
    "    lisort = sorted(li)\n",
    "\n",
    "    if len(li) % 2 == 0:\n",
    "        return (lisort[len(li)/2] + lisort[len(li)/2 - 1]) / 2\n",
    "    else:\n",
    "        return lisort[len(li)//2]\n",
    "\n",
    "# Print the average volume from this list\n",
    "print('The median daily trading volume for the year was: ', median_li(afx_vol))"
   ]
  },
  {
   "cell_type": "code",
   "execution_count": null,
   "metadata": {},
   "outputs": [],
   "source": []
  }
 ],
 "metadata": {
  "kernelspec": {
   "display_name": "Python 3",
   "language": "python",
   "name": "python3"
  },
  "language_info": {
   "codemirror_mode": {
    "name": "ipython",
    "version": 3
   },
   "file_extension": ".py",
   "mimetype": "text/x-python",
   "name": "python",
   "nbconvert_exporter": "python",
   "pygments_lexer": "ipython3",
   "version": "3.6.4"
  }
 },
 "nbformat": 4,
 "nbformat_minor": 2
}
