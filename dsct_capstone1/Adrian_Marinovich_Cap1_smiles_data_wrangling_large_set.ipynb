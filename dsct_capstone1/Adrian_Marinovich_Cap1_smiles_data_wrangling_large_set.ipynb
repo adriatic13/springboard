{
 "cells": [
  {
   "cell_type": "code",
   "execution_count": 1,
   "metadata": {},
   "outputs": [],
   "source": [
    "# Adrian Marinovich\n",
    "# Springboard - Data Science Career Track \n",
    "# Capston Project #1 - Smiles dataset #2\n",
    "# Data wrangling"
   ]
  },
  {
   "cell_type": "code",
   "execution_count": 1,
   "metadata": {},
   "outputs": [],
   "source": [
    "# Given the size of the datasets (45MB for grayscale, 145MB for 3-color), and\n",
    "#  anticipating I may import additional data to further pursue facial expression\n",
    "#  analysis, I decided to store data on the Amazon Web Services (AWS) S3 bucket,\n",
    "#  and to use an instance of AWS Deep Learning AMI (Amazon Machine Image), which\n",
    "#  allows scaling to higher performance processors as needed.\n",
    "#\n",
    "#  Here, among other packages, I import Boto (boto3), the AWS SDK for Python, \n",
    "#   then use Boto tools to pull the data from the SWA S3 bucket into this \n",
    "#   Jupyter notebook, which is running on an AWS EC2 instance.\n",
    "\n",
    "import boto3\n",
    "import cv2\n",
    "import glob\n",
    "import matplotlib\n",
    "import matplotlib.pyplot as plt\n",
    "import matplotlib.image as mpimg\n",
    "import numpy as np\n",
    "import os\n",
    "import pandas as pd\n",
    "import random\n",
    "import re\n",
    "import shutil\n",
    "\n",
    "#Enter keys:\n",
    "s3 = boto3.resource('s3',\n",
    "                    aws_access_key_id='',\n",
    "                    aws_secret_access_key='')\n",
    "client = boto3.client('s3',\n",
    "                      aws_access_key_id='',\n",
    "                      aws_secret_access_key='')\n",
    "resource = boto3.resource('s3',\n",
    "                          aws_access_key_id='',\n",
    "                          aws_secret_access_key='')\n",
    "\n",
    "# The S3 buckets already created, hold:\n",
    "#   All 13233 LFWcrop images in adriatic13s1, obtained from:\n",
    "#       http://conradsanderson.id.au/lfwcrop/\n",
    "#   The smile and non-smile lists for the small smiles dataset \n",
    "#     in adriatic13s2, obtained from:\n",
    "#       https://data.mendeley.com/datasets/yz4v8tb3tp/5\n",
    "#   The larger LFWcrop images classified into smile and non-smile, \n",
    "#     and further classified for this capstone project, originally obtained from:\n",
    "#       https://github.com/hromi/SMILEsmileD/tree/master/SMILEs\n",
    "#     and divided in to adriatic13s3 (nonsmile) and adriatic13s4 (smile)"
   ]
  },
  {
   "cell_type": "markdown",
   "metadata": {},
   "source": [
    "#### Note that the following commands must be run in a local terminal (linux, with AWS CLI already installed) in order to create and fill the S3 buckets described in part above.\n",
    "\n",
    "#### In AWS, create new IAM user in new group:<br>\n",
    "adrian_group_2<br>\n",
    "adrian_iam_2<br>\n",
    "Access key ID:<br>\n",
    "Secret access key:<br>\n",
    "\n",
    "#### Must manually add this user to config file in /home/.aws:\n",
    "\n",
    "[default]<br>\n",
    "region = us-east-1b<br>\n",
    "output = json\n",
    "\n",
    "[adrian_iam_1]<br>\n",
    "region = us-east-1b<br>\n",
    "output = json\n",
    "\n",
    "[adrian_iam_2]<br>\n",
    "region = us-east-1b<br>\n",
    "output = json\n",
    "\n",
    "#### ...and add to credentials file in /home/.aws:\n",
    "\n",
    "[default]<br>\n",
    "aws_access_key_id = <br>\n",
    "aws_secret_access_key = \n",
    "\n",
    "[adrian_iam_1]<br>\n",
    "aws_access_key_id =<br> \n",
    "aws_secret_access_key = \n",
    "\n",
    "[adrian_iam_2]<br>\n",
    "aws_access_key_id =<br> \n",
    "aws_secret_access_key = \n",
    "\n",
    "#### Run in local terminal:\n",
    "\n",
    "##### To see current buckets:<br>\n",
    "~/.local/bin/aws s3 ls --profile adrian_iam_2\n",
    "\n",
    "##### To make buckets for second dataset:<br>\n",
    "~/.local/bin/aws s3 mb s3://adriatic13s3 --profile adrian_iam_2<br>\n",
    "~/.local/bin/aws s3 mb s3://adriatic13s4 --profile adrian_iam_2<br>\n",
    "\n",
    "##### Copy negative (non-smile) files into adriatic13s3 bucket:<br>\n",
    "~/.local/bin/aws s3 cp \"/home/adrian/adrian/awork/ds/cvision/smiles/SmileD/SMILEs_edit/neg7added\" s3://adriatic13s3 --recursive --profile adrian_iam_2\n",
    "\n",
    "##### Copy positive (smile) files into adriatic13s4 bucket:<br>\n",
    "~/.local/bin/aws s3 cp \"/home/adrian/adrian/awork/ds/cvision/smiles/SmileD/SMILEs_edit/pos7added\" s3://adriatic13s4 --recursive --profile adrian_iam_2"
   ]
  },
  {
   "cell_type": "code",
   "execution_count": 2,
   "metadata": {},
   "outputs": [
    {
     "name": "stdout",
     "output_type": "stream",
     "text": [
      "adriatic13\n",
      "adriatic13s1\n",
      "adriatic13s2\n",
      "adriatic13s3\n",
      "adriatic13s4\n"
     ]
    }
   ],
   "source": [
    "# View the S3 buckets\n",
    "for bucket in s3.buckets.all():\n",
    "    print(bucket.name)"
   ]
  },
  {
   "cell_type": "code",
   "execution_count": 3,
   "metadata": {},
   "outputs": [
    {
     "name": "stdout",
     "output_type": "stream",
     "text": [
      "Non-smiles:\n",
      " adriatic13s3/10.jpg 1\n",
      "  adriatic13s3/9999.jpg 9199\n"
     ]
    }
   ],
   "source": [
    "# Access, count and view named files in non-smile images bucket,\n",
    "#  and print first and last image file names and count numbers\n",
    "#  Note: first count goes to directory\n",
    "count=0\n",
    "for obj in s3.Bucket(name='adriatic13s3').objects.all():\n",
    "    count+=1\n",
    "    if count==2:\n",
    "        print('Non-smiles:\\n', os.path.join(obj.bucket_name, obj.key), count-1)\n",
    "print(' ', os.path.join(obj.bucket_name, obj.key), count-1) "
   ]
  },
  {
   "cell_type": "code",
   "execution_count": 4,
   "metadata": {},
   "outputs": [
    {
     "name": "stdout",
     "output_type": "stream",
     "text": [
      "Smiles:\n",
      " adriatic13s4/1000.jpg 1\n",
      "  adriatic13s4/9998.jpg 3719\n"
     ]
    }
   ],
   "source": [
    "# Access, count and view named files in smile images bucket,\n",
    "#  and print first and last image file names and count numbers\n",
    "#  Note: first count goes to directory\n",
    "count=0\n",
    "for obj in s3.Bucket(name='adriatic13s4').objects.all():\n",
    "    count+=1\n",
    "    if count==2:\n",
    "        print('Smiles:\\n', os.path.join(obj.bucket_name, obj.key), count-1)\n",
    "print(' ', os.path.join(obj.bucket_name, obj.key), count-1) "
   ]
  },
  {
   "cell_type": "code",
   "execution_count": 5,
   "metadata": {},
   "outputs": [
    {
     "name": "stdout",
     "output_type": "stream",
     "text": [
      "Total non-smile matches downloaded: 9199\n"
     ]
    }
   ],
   "source": [
    "# Create non-smile local dataset\n",
    "\n",
    "os.makedirs('smile_d/', exist_ok=True)\n",
    "\n",
    "bucket1 = resource.Bucket('adriatic13s3')\n",
    "\n",
    "objs3 = [os.path.join(obj.key) \n",
    "         for obj in s3.Bucket(name='adriatic13s3').objects.all()]\n",
    "    \n",
    "count = 0\n",
    "for obj in objs3:\n",
    "    if obj[-4:]=='.jpg':\n",
    "        count+=1\n",
    "        bucket1.download_file(obj, 'smile_d/nsmile%d' % count)\n",
    "print('Total non-smile matches downloaded:', count)"
   ]
  },
  {
   "cell_type": "code",
   "execution_count": 6,
   "metadata": {},
   "outputs": [
    {
     "name": "stdout",
     "output_type": "stream",
     "text": [
      "Total smile matches downloaded: 3719\n"
     ]
    }
   ],
   "source": [
    "# Create smile local dataset\n",
    "\n",
    "os.makedirs('smile_d/', exist_ok=True)\n",
    "\n",
    "bucket1 = resource.Bucket('adriatic13s4')\n",
    "\n",
    "objs4 = [os.path.join(obj.key) \n",
    "         for obj in s3.Bucket(name='adriatic13s4').objects.all()]\n",
    "    \n",
    "count = 0\n",
    "for obj in objs4:\n",
    "    if obj[-4:]=='.jpg':\n",
    "        count+=1\n",
    "        bucket1.download_file(obj, 'smile_d/ysmile%d' % count)\n",
    "print('Total smile matches downloaded:', count)"
   ]
  },
  {
   "cell_type": "code",
   "execution_count": 12,
   "metadata": {},
   "outputs": [
    {
     "name": "stdout",
     "output_type": "stream",
     "text": [
      "AxesImage(54,36;334.8x217.44)\n"
     ]
    },
    {
     "data": {
      "image/png": "[encoded data removed]",
      "text/plain": [
       "<Figure size 432x288 with 1 Axes>"
      ]
     },
     "metadata": {},
     "output_type": "display_data"
    }
   ],
   "source": [
    "# View two images labelled smile and non-smile, \n",
    "#  and check pixel dimensions\n",
    "\n",
    "imagePath1 = 'smile_d/ysmile107'\n",
    "imagePath2 = 'smile_d/nsmile107'\n",
    "\n",
    "imagey = cv2.imread(imagePath1)\n",
    "imagen = cv2.imread(imagePath2)\n",
    "\n",
    "print(plt.imshow(imagey))"
   ]
  },
  {
   "cell_type": "code",
   "execution_count": 13,
   "metadata": {},
   "outputs": [
    {
     "name": "stdout",
     "output_type": "stream",
     "text": [
      "AxesImage(54,36;334.8x217.44)\n"
     ]
    },
    {
     "data": {
      "image/png": "[encoded data removed]",
      "text/plain": [
       "<Figure size 432x288 with 1 Axes>"
      ]
     },
     "metadata": {},
     "output_type": "display_data"
    }
   ],
   "source": [
    "print(plt.imshow(imagen))"
   ]
  },
  {
   "cell_type": "code",
   "execution_count": 18,
   "metadata": {},
   "outputs": [
    {
     "data": {
      "text/plain": [
       "(64, 64, 3)"
      ]
     },
     "execution_count": 18,
     "metadata": {},
     "output_type": "execute_result"
    }
   ],
   "source": [
    "img = cv2.imread('smile_d/ysmile107')\n",
    "img.shape"
   ]
  },
  {
   "cell_type": "code",
   "execution_count": 19,
   "metadata": {},
   "outputs": [
    {
     "name": "stdout",
     "output_type": "stream",
     "text": [
      "[167 167 167]\n"
     ]
    }
   ],
   "source": [
    "# Note that, even though these are grayscale images, they\n",
    "#  have each pixel's intensity in triplicate, as \n",
    "#  confirmed here\n",
    "px = img[25,25]\n",
    "print(px)"
   ]
  },
  {
   "cell_type": "code",
   "execution_count": 20,
   "metadata": {},
   "outputs": [
    {
     "data": {
      "text/plain": [
       "(64, 64)"
      ]
     },
     "execution_count": 20,
     "metadata": {},
     "output_type": "execute_result"
    }
   ],
   "source": [
    "# Here we confirm that reducing the dimension of the array\n",
    "#  will retain the grayscale image dimensions...\n",
    "px2 = img[:,:,0]\n",
    "px2.shape"
   ]
  },
  {
   "cell_type": "code",
   "execution_count": 21,
   "metadata": {},
   "outputs": [
    {
     "name": "stdout",
     "output_type": "stream",
     "text": [
      "AxesImage(54,36;334.8x217.44)\n"
     ]
    },
    {
     "data": {
      "image/png": "[encoded data removed]",
      "text/plain": [
       "<Figure size 432x288 with 1 Axes>"
      ]
     },
     "metadata": {},
     "output_type": "display_data"
    }
   ],
   "source": [
    "# ... and produce a grayscale image (noting that cmap='gray'\n",
    "#      is needed to keep matplotlib from showing a colormap)\n",
    "print(plt.imshow(px2, cmap='gray'))"
   ]
  },
  {
   "cell_type": "code",
   "execution_count": 22,
   "metadata": {},
   "outputs": [
    {
     "name": "stdout",
     "output_type": "stream",
     "text": [
      "total filenames read into list: 12918\n",
      "total filenames saved permanently: 12918\n"
     ]
    }
   ],
   "source": [
    "# Make list of all filenames, then save as\n",
    "#  permanent csv file in control folder\n",
    "os.makedirs('smile_control/', exist_ok=True)\n",
    "\n",
    "count=0\n",
    "smileD_all=[]\n",
    "for obj in glob.glob('smile_d/*smile*'):\n",
    "    count+=1\n",
    "    smileD_all.append(obj[8:])\n",
    "print('total filenames read into list:', count)\n",
    "\n",
    "count2=0\n",
    "with open('smile_control/smileD_all.csv','w') as f:\n",
    "    for line in smileD_all:\n",
    "        count2+=1\n",
    "        f.write(line)\n",
    "        if count2<=(len(smileD_all)-1):\n",
    "            f.write('\\n')\n",
    "    print('total filenames saved permanently:', count2)\n",
    "\n",
    "del smileD_all"
   ]
  },
  {
   "cell_type": "code",
   "execution_count": 23,
   "metadata": {},
   "outputs": [
    {
     "name": "stdout",
     "output_type": "stream",
     "text": [
      "training: 10334 \n",
      "validation: 1938 \n",
      "test/hold-out: 646 \n",
      "total: 12918\n"
     ]
    }
   ],
   "source": [
    "# Shuffle and split filenames list into permanent\n",
    "#  training, validation, test/hold-out sets,\n",
    "#  using 80%, 15%, 5% split respectively\n",
    "\n",
    "# Pulling filenames back from permanent file\n",
    "smileD_all = [line.rstrip('\\n') for line in open('smile_control/smileD_all.csv')]\n",
    "\n",
    "random.shuffle(smileD_all)\n",
    "\n",
    "to80 = round(0.8*len(smileD_all))\n",
    "f80to95 = to80 + round(0.15*len(smileD_all))\n",
    "\n",
    "smileD_train = smileD_all[:to80]\n",
    "smileD_valid = smileD_all[to80:f80to95]\n",
    "smileD_hold = smileD_all[f80to95:]\n",
    "\n",
    "count3=0\n",
    "with open('smile_control/smileD_train.csv','w') as f:\n",
    "    for line in          smileD_train:\n",
    "        count3+=1\n",
    "        f.write(line)\n",
    "        if count3<=(len( smileD_train)-1):\n",
    "            f.write('\\n')\n",
    "count3=0\n",
    "with open('smile_control/smileD_valid.csv','w') as f:\n",
    "    for line in          smileD_valid:\n",
    "        count3+=1\n",
    "        f.write(line)\n",
    "        if count3<=(len( smileD_valid)-1):\n",
    "            f.write('\\n')\n",
    "count3=0\n",
    "with open('smile_control/smileD_hold.csv','w') as f:\n",
    "    for line in          smileD_hold:\n",
    "        count3+=1\n",
    "        f.write(line)\n",
    "        if count3<=(len( smileD_hold)-1):\n",
    "            f.write('\\n')\n",
    "\n",
    "print('training:', len(smileD_train),\n",
    "      '\\nvalidation:', len(smileD_valid),\n",
    "      '\\ntest/hold-out:', len(smileD_hold),\n",
    "      '\\ntotal:', len(smileD_train) + len(smileD_valid) + len(smileD_hold))\n",
    "\n",
    "del smileD_train, smileD_valid, smileD_hold"
   ]
  },
  {
   "cell_type": "code",
   "execution_count": null,
   "metadata": {},
   "outputs": [],
   "source": []
  },
  {
   "cell_type": "code",
   "execution_count": null,
   "metadata": {},
   "outputs": [],
   "source": []
  }
 ],
 "metadata": {
  "kernelspec": {
   "display_name": "Python 3",
   "language": "python",
   "name": "python3"
  },
  "language_info": {
   "codemirror_mode": {
    "name": "ipython",
    "version": 3
   },
   "file_extension": ".py",
   "mimetype": "text/x-python",
   "name": "python",
   "nbconvert_exporter": "python",
   "pygments_lexer": "ipython3",
   "version": "3.6.4"
  }
 },
 "nbformat": 4,
 "nbformat_minor": 2
}
