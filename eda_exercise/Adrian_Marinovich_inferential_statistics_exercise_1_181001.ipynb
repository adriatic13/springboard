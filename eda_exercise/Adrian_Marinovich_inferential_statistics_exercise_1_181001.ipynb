{
 "cells": [
  {
   "cell_type": "code",
   "execution_count": 27,
   "metadata": {},
   "outputs": [],
   "source": [
    "# Adrian Marinovich\n",
    "# Springboard - Data Science Career Track\n",
    "# Inferential Statistics Exercise 1\n",
    "# October 1, 2018"
   ]
  },
  {
   "cell_type": "markdown",
   "metadata": {},
   "source": [
    "# What is the True Normal Human Body Temperature? \n",
    "\n",
    "#### Background\n",
    "\n",
    "The mean normal body temperature was held to be 37$^{\\circ}$C or 98.6$^{\\circ}$F for more than 120 years since it was first conceptualized and reported by Carl Wunderlich in a famous 1868 book. But, is this value statistically correct?"
   ]
  },
  {
   "cell_type": "markdown",
   "metadata": {},
   "source": [
    "<h3>Exercises</h3>\n",
    "\n",
    "<p>In this exercise, you will analyze a dataset of human body temperatures and employ the concepts of hypothesis testing, confidence intervals, and statistical significance.</p>\n",
    "\n",
    "<p>Answer the following questions <b>in this notebook below and submit to your Github account</b>.</p> \n",
    "\n",
    "<ol>\n",
    "<li>  Is the distribution of body temperatures normal? \n",
    "    <ul>\n",
    "    <li> Although this is not a requirement for the Central Limit Theorem to hold (read the introduction on Wikipedia's page about the CLT carefully: https://en.wikipedia.org/wiki/Central_limit_theorem), it gives us some peace of mind that the population may also be normally distributed if we assume that this sample is representative of the population.\n",
    "    <li> Think about the way you're going to check for the normality of the distribution. Graphical methods are usually used first, but there are also other ways: https://en.wikipedia.org/wiki/Normality_test\n",
    "    </ul>\n",
    "<li>  Is the sample size large? Are the observations independent?\n",
    "    <ul>\n",
    "    <li> Remember that this is a condition for the Central Limit Theorem, and hence the statistical tests we are using, to apply.\n",
    "    </ul>\n",
    "<li>  Is the true population mean really 98.6 degrees F?\n",
    "    <ul>\n",
    "    <li> First, try a bootstrap hypothesis test.\n",
    "    <li> Now, let's try frequentist statistical testing. Would you use a one-sample or two-sample test? Why?\n",
    "    <li> In this situation, is it appropriate to use the $t$ or $z$ statistic? \n",
    "    <li> Now try using the other test. How is the result be different? Why?\n",
    "    </ul>\n",
    "<li>  Draw a small sample of size 10 from the data and repeat both frequentist tests. \n",
    "    <ul>\n",
    "    <li> Which one is the correct one to use? \n",
    "    <li> What do you notice? What does this tell you about the difference in application of the $t$ and $z$ statistic?\n",
    "    </ul>\n",
    "<li>  At what temperature should we consider someone's temperature to be \"abnormal\"?\n",
    "    <ul>\n",
    "    <li> As in the previous example, try calculating everything using the boostrap approach, as well as the frequentist approach.\n",
    "    <li> Start by computing the margin of error and confidence interval. When calculating the confidence interval, keep in mind that you should use the appropriate formula for one draw, and not N draws.\n",
    "    </ul>\n",
    "<li>  Is there a significant difference between males and females in normal temperature?\n",
    "    <ul>\n",
    "    <li> What testing approach did you use and why?\n",
    "    <li> Write a story with your conclusion in the context of the original problem.\n",
    "    </ul>\n",
    "</ol>\n",
    "\n",
    "You can include written notes in notebook cells using Markdown: \n",
    "   - In the control panel at the top, choose Cell > Cell Type > Markdown\n",
    "   - Markdown syntax: http://nestacms.com/docs/creating-content/markdown-cheat-sheet\n",
    "\n",
    "#### Resources\n",
    "\n",
    "+ Information and data sources: http://www.amstat.org/publications/jse/datasets/normtemp.txt, http://www.amstat.org/publications/jse/jse_data_archive.htm\n",
    "+ Markdown syntax: http://nestacms.com/docs/creating-content/markdown-cheat-sheet\n",
    "\n",
    "****"
   ]
  },
  {
   "cell_type": "markdown",
   "metadata": {},
   "source": [
    "NOTE:\n",
    "\n",
    "The supporting information provided above states that \"Data were constructed to match as closely as possible the histograms and summary statistics presented in that article.\" This implies the data provided are not the original data, and may differ from the original data in unknown ways. \n",
    "\n",
    "Review of the abstract of the article from which the data were obtained (JAMA. 1992 Sep 23-30;268(12):1578-80) (the full article is not freely  accessible), notes that the data were obtained during baseline study  from 148 healthy men and women aged 18 through 40 years who were  participating in a Shigella vaccine trial, using an oral thermometer  to obtain temperatures one to four times daily for three consecutive  days. \n",
    "\n",
    "Since the dataset here consists only of 130 readings, it is unknown what subsamping criteria were applied to obtain the subset of data,  whether the data are from 130 unique patients among the larger  group of 148 patients, or whether the temperature readings are from  the same time of day for each patient.\n",
    "\n",
    "No information is provided on selection criteria for the study (aside from 'healthy'), patient's medical history, evaluation for symptoms  and signs of infection, recent physical exertion, pregnancy status  or time in menstruation cycle as appropriate, time since last meal,  and time of measurement, all of which might have an impact on body  temperature, and which would provide information about the sampled population.\n",
    "\n",
    "The presence of the 100.8 degree F outlier (descibed below) also behooves further inquiry into this patient and circumstances of this measurement, and raises the question of how carefully patients were screened before  their data were contributed. \n",
    "\n",
    "Answers are provided below with these caveats in mind, for the  purposes of completing the exercises only. \n",
    "\n",
    "The dataset in its current form and context does not  appear to be  appropriate for drawing conclusions about \"normal\" body temperature  ranges. "
   ]
  },
  {
   "cell_type": "code",
   "execution_count": 28,
   "metadata": {},
   "outputs": [],
   "source": [
    "import pandas as pd\n",
    "\n",
    "df = pd.read_csv('data/human_body_temperature.csv')"
   ]
  },
  {
   "cell_type": "code",
   "execution_count": 29,
   "metadata": {},
   "outputs": [
    {
     "data": {
      "text/plain": [
       "(130, 3)"
      ]
     },
     "execution_count": 29,
     "metadata": {},
     "output_type": "execute_result"
    }
   ],
   "source": [
    "# Check data\n",
    "df.shape"
   ]
  },
  {
   "cell_type": "code",
   "execution_count": 30,
   "metadata": {},
   "outputs": [
    {
     "data": {
      "text/html": [
       "<div>\n",
       "<style scoped>\n",
       "    .dataframe tbody tr th:only-of-type {\n",
       "        vertical-align: middle;\n",
       "    }\n",
       "\n",
       "    .dataframe tbody tr th {\n",
       "        vertical-align: top;\n",
       "    }\n",
       "\n",
       "    .dataframe thead th {\n",
       "        text-align: right;\n",
       "    }\n",
       "</style>\n",
       "<table border=\"1\" class=\"dataframe\">\n",
       "  <thead>\n",
       "    <tr style=\"text-align: right;\">\n",
       "      <th></th>\n",
       "      <th>temperature</th>\n",
       "      <th>gender</th>\n",
       "      <th>heart_rate</th>\n",
       "    </tr>\n",
       "  </thead>\n",
       "  <tbody>\n",
       "    <tr>\n",
       "      <th>0</th>\n",
       "      <td>99.3</td>\n",
       "      <td>F</td>\n",
       "      <td>68.0</td>\n",
       "    </tr>\n",
       "    <tr>\n",
       "      <th>1</th>\n",
       "      <td>98.4</td>\n",
       "      <td>F</td>\n",
       "      <td>81.0</td>\n",
       "    </tr>\n",
       "    <tr>\n",
       "      <th>2</th>\n",
       "      <td>97.8</td>\n",
       "      <td>M</td>\n",
       "      <td>73.0</td>\n",
       "    </tr>\n",
       "    <tr>\n",
       "      <th>3</th>\n",
       "      <td>99.2</td>\n",
       "      <td>F</td>\n",
       "      <td>66.0</td>\n",
       "    </tr>\n",
       "    <tr>\n",
       "      <th>4</th>\n",
       "      <td>98.0</td>\n",
       "      <td>F</td>\n",
       "      <td>73.0</td>\n",
       "    </tr>\n",
       "  </tbody>\n",
       "</table>\n",
       "</div>"
      ],
      "text/plain": [
       "   temperature gender  heart_rate\n",
       "0         99.3      F        68.0\n",
       "1         98.4      F        81.0\n",
       "2         97.8      M        73.0\n",
       "3         99.2      F        66.0\n",
       "4         98.0      F        73.0"
      ]
     },
     "execution_count": 30,
     "metadata": {},
     "output_type": "execute_result"
    }
   ],
   "source": [
    "df.head(5)"
   ]
  },
  {
   "cell_type": "markdown",
   "metadata": {},
   "source": [
    "Question 1. _Is the distribution of body temperatures normal?_ "
   ]
  },
  {
   "cell_type": "code",
   "execution_count": 31,
   "metadata": {},
   "outputs": [],
   "source": [
    "# 1. (continued...) \n",
    "\n",
    "import matplotlib.pyplot as plt\n",
    "import numpy as np\n",
    "import pandas as pd"
   ]
  },
  {
   "cell_type": "code",
   "execution_count": 32,
   "metadata": {},
   "outputs": [
    {
     "data": {
      "image/png": "[encoded data removed]",
      "text/plain": [
       "<Figure size 432x288 with 1 Axes>"
      ]
     },
     "metadata": {},
     "output_type": "display_data"
    }
   ],
   "source": [
    "# 1. (continued...)\n",
    "# Plot histogram of temperatures\n",
    "%matplotlib inline\n",
    "a = plt.hist(df['temperature'], bins=20)\n",
    "a = plt.xlabel('temperature')\n",
    "a = plt.ylabel('number of measures')\n",
    "\n",
    "plt.show()"
   ]
  },
  {
   "cell_type": "code",
   "execution_count": 33,
   "metadata": {},
   "outputs": [
    {
     "data": {
      "image/png": "[encoded data removed]",
      "text/plain": [
       "<Figure size 432x288 with 1 Axes>"
      ]
     },
     "metadata": {},
     "output_type": "display_data"
    }
   ],
   "source": [
    "# 1. (continued...)\n",
    "# Plot probability density histogram of temperatures (in blue)\n",
    "#  with overlay of a random normal distribution (in orange) \n",
    "#  created using mean and standard deviation of temperatures\n",
    "%matplotlib inline\n",
    "mean = np.mean(df['temperature'])\n",
    "std = np.std(df['temperature'])\n",
    "normals = np.random.normal(mean, std, size=10000)\n",
    "\n",
    "t = plt.hist(df['temperature'],density=True,alpha=0.5,bins=20)\n",
    "n = plt.hist(normals,density=True,alpha=0.5,bins=50)\n",
    "lx = plt.xlabel('xaxis')\n",
    "ly = plt.ylabel('yaxis')\n",
    "plt.show()"
   ]
  },
  {
   "cell_type": "markdown",
   "metadata": {},
   "source": [
    "Question 1. (continued...)\n",
    "\n",
    "While visual inspection of the above plot shows substantial overlap of the normal and temperature distributions, there are temperatures at the tails, particularly the right tail, that give concern. \n",
    "\n",
    "So we'll test for normality, first using a 'back-of-the-envelope test', seeing if there is a 3sigma, or in this case a 3s event which is not expected in a  sample size of less than 300 (n=130 in this case)."
   ]
  },
  {
   "cell_type": "code",
   "execution_count": 34,
   "metadata": {},
   "outputs": [
    {
     "name": "stdout",
     "output_type": "stream",
     "text": [
      "s: 0.7303577789050377 \n",
      " mean: 98.24923076923078\n"
     ]
    }
   ],
   "source": [
    "# First print the s, standard deviation, and mean, \n",
    "#  calculated above as 'std' and 'mean':\n",
    "print('s:', std, '\\n', 'mean:', mean)"
   ]
  },
  {
   "cell_type": "code",
   "execution_count": 35,
   "metadata": {},
   "outputs": [
    {
     "data": {
      "text/plain": [
       "array([100.8])"
      ]
     },
     "execution_count": 35,
     "metadata": {},
     "output_type": "execute_result"
    }
   ],
   "source": [
    "# 1. (continued...)\n",
    "# Then multiply that std by 3, and see if any temperature\n",
    "#  values fall greater than 3s from the mean.\n",
    "\n",
    "# Convert dataframe temperatures to numpy array\n",
    "t_arr = df['temperature'].values\n",
    "\n",
    "# Check for > 3s outliers\n",
    "t_arr[ np.abs(t_arr - mean)>3*std ]"
   ]
  },
  {
   "cell_type": "code",
   "execution_count": 36,
   "metadata": {},
   "outputs": [
    {
     "name": "stdout",
     "output_type": "stream",
     "text": [
      "Statistic: 0.520 \n",
      "Sig. level:\n",
      "15.000: 0.560, data looks normal (fail to reject null hypothesis)\n",
      "10.000: 0.637, data looks normal (fail to reject null hypothesis)\n",
      "5.000: 0.765, data looks normal (fail to reject null hypothesis)\n",
      "2.500: 0.892, data looks normal (fail to reject null hypothesis)\n",
      "1.000: 1.061, data looks normal (fail to reject null hypothesis)\n"
     ]
    }
   ],
   "source": [
    "# 1. (continued...)\n",
    "# Since there is a value greater that 3s from the \n",
    "#  mean, we'll do another test of normality,\n",
    "#  the Anderson-Darling test.\n",
    "#\n",
    "from scipy.stats import anderson\n",
    "result = anderson(t_arr)\n",
    "print('Statistic: %.3f \\nSig. level:' % result.statistic)\n",
    "p = 0\n",
    "for i in range(len(result.critical_values)):\n",
    "    sl, cv = result.significance_level[i], result.critical_values[i]\n",
    "    if result.statistic < result.critical_values[i]:\n",
    "        print('%.3f: %.3f, data looks normal (fail to reject null hypothesis)' % (sl, cv))\n",
    "    else:\n",
    "        print('%.3f: %.3f, data does not look normal (reject null hypothesis)' % (sl, cv))"
   ]
  },
  {
   "cell_type": "markdown",
   "metadata": {},
   "source": [
    "Question 1. (continued...)\n",
    "\n",
    "Apparently, the 100.8 degree outlier is not enough to tip the distribution out of normality by this test, but nevertheless gives concern about the  origin of this dataset, as explained in the note above."
   ]
  },
  {
   "cell_type": "markdown",
   "metadata": {},
   "source": [
    "Question 2. _Is the sample size large? Are the observations independent?_\n",
    "\n",
    "A sample size of at least 30 is often considered the minimum for the central limit theorem to apply. Therefore, with n=130 in this dataset, we can consider it to be 'large' for that purpose.\n",
    "\n",
    "The ultimate answer to whether a sample size is 'large', however, depends on the specific hypothesis and effect size anticipated.\n",
    "\n",
    "As discussed in the note above, not enough information is provided with this dataset to know for sure that each observation is from  a separate unique patient, rather than being from multiple readings from a smaller group of patients. \n",
    "\n",
    "IF we can assume that each observation is from a separate unique patient, then the observations would be independent.\n"
   ]
  },
  {
   "cell_type": "markdown",
   "metadata": {},
   "source": [
    "Question 3. _Is the true population mean really 98.6 degrees F?_"
   ]
  },
  {
   "cell_type": "code",
   "execution_count": 41,
   "metadata": {},
   "outputs": [],
   "source": [
    "# 3. (continued...)\n",
    "# First, try a bootstrap hypothesis test.\n",
    "\n",
    "def bootstrap_replicate(data, test):\n",
    "    bs_sample = np.random.choice(data, len(data))\n",
    "    return test(bs_sample)"
   ]
  },
  {
   "cell_type": "code",
   "execution_count": 42,
   "metadata": {},
   "outputs": [
    {
     "data": {
      "text/plain": [
       "98.18384615384613"
      ]
     },
     "execution_count": 42,
     "metadata": {},
     "output_type": "execute_result"
    }
   ],
   "source": [
    "bootstrap_replicate(t_arr, np.mean) "
   ]
  },
  {
   "cell_type": "code",
   "execution_count": 43,
   "metadata": {},
   "outputs": [],
   "source": [
    "bs_replicates = np.empty(10000)"
   ]
  },
  {
   "cell_type": "code",
   "execution_count": 44,
   "metadata": {},
   "outputs": [],
   "source": [
    "for i in range(10000):\n",
    "    bs_replicates[i] = bootstrap_replicate(t_arr, np.mean)"
   ]
  },
  {
   "cell_type": "code",
   "execution_count": 45,
   "metadata": {},
   "outputs": [],
   "source": [
    "conf_int = np.percentile(bs_replicates, [2.5, 97.5])"
   ]
  },
  {
   "cell_type": "code",
   "execution_count": 46,
   "metadata": {
    "scrolled": true
   },
   "outputs": [
    {
     "data": {
      "text/plain": [
       "array([98.12461538, 98.37538462])"
      ]
     },
     "execution_count": 46,
     "metadata": {},
     "output_type": "execute_result"
    }
   ],
   "source": [
    "conf_int"
   ]
  },
  {
   "cell_type": "markdown",
   "metadata": {},
   "source": [
    "Question 3. (continued...)\n",
    "\n",
    "The 95% confidence interval above does not contain 98.6 using 10,000 bootstrap replicates testing, indicating the population mean is not likely 98.6 degrees F,  with the caveat that we do not really know what the population is that this sample is meant to  represent (see note above)."
   ]
  },
  {
   "cell_type": "markdown",
   "metadata": {},
   "source": [
    "Question 3. (continued...) _Now, let's try frequentist statistical testing. Would you use a one-sample or two-sample test? Why?_\n",
    "\n",
    "This is a one-sample test, since we're working with one sample. We are not comparing two samples. "
   ]
  },
  {
   "cell_type": "markdown",
   "metadata": {},
   "source": [
    "Question 3. (continued...) _In this situation, is it appropriate to use the t or z statistic?_\n",
    "\n",
    "While the the z statistic would not be incorrect to use here, and may be the preferred answer by rote application of an \"n > 30  rule\", I believe the t statistic is most appropriate here. Use  of the z statistic presumes the population variance is known. We do  not know the population variance here, and it is difficult to  make assumptions about this variance from the sample variance,  as we don't know specifically what the population is (see above  note), how the original sample was obtained from it, or how this  dataset was subsampled from that. When n increases beyond 30 as  is the case here, however, the t statistic gets very close to  the z statistic anyway. Furthermore, as the t statistic is very  commonly used in biomedical research even with n > 30, it is  preferable to continue using it in the same way here."
   ]
  },
  {
   "cell_type": "code",
   "execution_count": 47,
   "metadata": {},
   "outputs": [
    {
     "data": {
      "text/plain": [
       "Ttest_1sampResult(statistic=-5.4548232923645195, pvalue=2.4106320415561276e-07)"
      ]
     },
     "execution_count": 47,
     "metadata": {},
     "output_type": "execute_result"
    }
   ],
   "source": [
    "# This is the test using the t statistic (two-sided)\n",
    "import scipy\n",
    "scipy.stats.ttest_1samp(t_arr, 98.6)"
   ]
  },
  {
   "cell_type": "markdown",
   "metadata": {},
   "source": [
    "Question 3. (continued...)\n",
    "\n",
    "The p value here of 0.0000002, is easily < 0.05, and thus we reject the null hypothesis that there is no significant difference between the sample mean and 98.6."
   ]
  },
  {
   "cell_type": "code",
   "execution_count": 48,
   "metadata": {
    "scrolled": true
   },
   "outputs": [
    {
     "data": {
      "text/plain": [
       "4.3523151658821886e-08"
      ]
     },
     "execution_count": 48,
     "metadata": {},
     "output_type": "execute_result"
    }
   ],
   "source": [
    "# 3. (continued...)\n",
    "# Now try using the other test. \n",
    "\n",
    "# Obtain the z score of the sample mean against the 98.6 value\n",
    "z = (mean - 98.6)*np.sqrt(len(t_arr))/std\n",
    "\n",
    "# Obtain the p value for this z score (two-sided)\n",
    "p_value = scipy.stats.norm.sf(abs(z))*2\n",
    "p_value"
   ]
  },
  {
   "cell_type": "markdown",
   "metadata": {},
   "source": [
    "Question 3. (continued...) _How is the result be different? Why?_\n",
    "\n",
    "As expected, the z statistic returns a lower p value. This is because the z distribution (the standard normal distribution)  is more narrow than the t distribution. In the context of this  case, however, the difference results in no meaningful difference  in interpretation, compared to the t statistic."
   ]
  },
  {
   "cell_type": "markdown",
   "metadata": {},
   "source": [
    "Question 4. _Draw a small sample of size 10 from the data and repeat both frequentist tests._"
   ]
  },
  {
   "cell_type": "code",
   "execution_count": 71,
   "metadata": {},
   "outputs": [],
   "source": [
    "# 4. (continued...)\n",
    "\n",
    "# Random sample of 10\n",
    "t_arr10 = np.random.choice(t_arr, 10)"
   ]
  },
  {
   "cell_type": "code",
   "execution_count": 72,
   "metadata": {},
   "outputs": [
    {
     "data": {
      "text/plain": [
       "Ttest_1sampResult(statistic=-0.2844627935584223, pvalue=0.7824924012588588)"
      ]
     },
     "execution_count": 72,
     "metadata": {},
     "output_type": "execute_result"
    }
   ],
   "source": [
    "# 4. (continued...)\n",
    "# t statistic\n",
    "scipy.stats.ttest_1samp(t_arr10, 98.6)"
   ]
  },
  {
   "cell_type": "code",
   "execution_count": 73,
   "metadata": {},
   "outputs": [
    {
     "data": {
      "text/plain": [
       "0.12882584068325553"
      ]
     },
     "execution_count": 73,
     "metadata": {},
     "output_type": "execute_result"
    }
   ],
   "source": [
    "# 4. (continued...)\n",
    "# z statistic\n",
    "z = (mean - 98.6)*np.sqrt(len(t_arr10))/std\n",
    "p_value10 = scipy.stats.norm.sf(abs(z))*2\n",
    "p_value10"
   ]
  },
  {
   "cell_type": "markdown",
   "metadata": {},
   "source": [
    "Question 4. (continued...) _Which one is the correct one to use?_\n",
    "\n",
    "In this case, the t statistic is the better to use, since n < 30.\n",
    "\n",
    "_What do you notice? What does this tell you about the difference in application of the t and z statistic?_\n",
    "\n",
    "The z statistic gives the same p value regardless of the sample of 10 temperatures chosen, while the t statistic gives highly variable p values, based on which sample is chosen. The t distribution at this n is wider than the t distribution for the full sample n above. This underscores how the difference between using the t over the z is most pronounced at low n (less than 30)."
   ]
  },
  {
   "cell_type": "markdown",
   "metadata": {},
   "source": [
    "Question 5. _At what temperature should we consider someone's temperature to be \"abnormal\"?_\n",
    "\n",
    "As in the previous example, try calculating everything using the boostrap approach, as well as the frequentist approach."
   ]
  },
  {
   "cell_type": "code",
   "execution_count": 52,
   "metadata": {},
   "outputs": [
    {
     "data": {
      "text/plain": [
       "array([96.7, 99.5])"
      ]
     },
     "execution_count": 52,
     "metadata": {},
     "output_type": "execute_result"
    }
   ],
   "source": [
    "# 5. (continued...)\n",
    "# Use the bootstrap approach to obtain a distribution from \n",
    "#  10000 random selections and then findings 2.5% and 97.5% \n",
    "#  cutoffs \n",
    "conf_int = np.percentile(np.random.choice(t_arr, 10000), [2.5, 97.5])\n",
    "conf_int"
   ]
  },
  {
   "cell_type": "markdown",
   "metadata": {},
   "source": [
    "Question 5. (continued...)\n",
    "\n",
    "By the bootstrap approach, using 2.5 and 97.5 percentile limits, we consider less than 96.7 degrees F, and greater than 99.5 degrees F, to be abnormal temperatures"
   ]
  },
  {
   "cell_type": "code",
   "execution_count": 53,
   "metadata": {},
   "outputs": [
    {
     "data": {
      "text/plain": [
       "array([96.83751854, 99.63597273])"
      ]
     },
     "execution_count": 53,
     "metadata": {},
     "output_type": "execute_result"
    }
   ],
   "source": [
    "# 5. (continued...)\n",
    "# Use frequentist approach to get 2.5 and 97.5 percentile limits\n",
    "# Generate 10000 values off normal distribution with \n",
    "#  our temperatures' mean and standard deviation,\n",
    "#  and obtain percentile limits from those\n",
    "conf_int = np.percentile(np.random.normal(mean, std, size=10000), [2.5, 97.5])\n",
    "conf_int"
   ]
  },
  {
   "cell_type": "markdown",
   "metadata": {},
   "source": [
    "Question 5. (continued...)\n",
    "\n",
    "By the frequentist approach, using 2.5 and 97.5 percentile limits, we consider less than 96.8 degrees F, and greater than 99.6 degrees F, to be abnormal temperatures"
   ]
  },
  {
   "cell_type": "markdown",
   "metadata": {},
   "source": [
    "Question 6. _Is there a significant difference between males and females in normal temperature?_"
   ]
  },
  {
   "cell_type": "code",
   "execution_count": 54,
   "metadata": {},
   "outputs": [
    {
     "name": "stdout",
     "output_type": "stream",
     "text": [
      "Female mean temp: 98.39384615384614 \n",
      "Male mean temp: 98.10461538461537\n"
     ]
    }
   ],
   "source": [
    "# 6. (continued...)\n",
    "# We will use a two sample t-test for comparing the means between female and male samples\n",
    "\n",
    "# Convert dataframe female and male temperatures to numpy arrays\n",
    "#  and print their means\n",
    "f_df = df[df['gender'] == 'F']\n",
    "m_df = df[df['gender'] == 'M']\n",
    "\n",
    "t_f_arr = f_df['temperature'].values\n",
    "t_m_arr = m_df['temperature'].values\n",
    "\n",
    "print('Female mean temp:', np.mean(t_f_arr), '\\nMale mean temp:', np.mean(t_m_arr))"
   ]
  },
  {
   "cell_type": "code",
   "execution_count": 55,
   "metadata": {},
   "outputs": [
    {
     "data": {
      "text/plain": [
       "Ttest_indResult(statistic=2.2854345381656103, pvalue=0.02393188312239561)"
      ]
     },
     "execution_count": 55,
     "metadata": {},
     "output_type": "execute_result"
    }
   ],
   "source": [
    "# Perform two-sample t-test\n",
    "scipy.stats.ttest_ind(t_f_arr, t_m_arr)"
   ]
  },
  {
   "cell_type": "markdown",
   "metadata": {},
   "source": [
    "Question 6. (continued...)\n",
    "\n",
    "With a p value of 0.024, we reject the null hypothesis of equal means and conclude there is a significant difference (using the  (p<0.05 cutoff) between  female and male temperatures (i.e., mean female temperature is significantly higher than mean male temperature)."
   ]
  },
  {
   "cell_type": "code",
   "execution_count": null,
   "metadata": {},
   "outputs": [],
   "source": []
  }
 ],
 "metadata": {
  "kernelspec": {
   "display_name": "Python 3",
   "language": "python",
   "name": "python3"
  },
  "language_info": {
   "codemirror_mode": {
    "name": "ipython",
    "version": 3
   },
   "file_extension": ".py",
   "mimetype": "text/x-python",
   "name": "python",
   "nbconvert_exporter": "python",
   "pygments_lexer": "ipython3",
   "version": "3.6.4"
  }
 },
 "nbformat": 4,
 "nbformat_minor": 1
}
