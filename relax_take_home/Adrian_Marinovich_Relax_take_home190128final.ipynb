{
 "cells": [
  {
   "cell_type": "code",
   "execution_count": null,
   "metadata": {},
   "outputs": [],
   "source": [
    "# Adrian Marinovich\n",
    "# Springboard - Data Science Career Track\n",
    "# Relax Take-home Exercise\n",
    "# January 28, 2019\n",
    "#"
   ]
  },
  {
   "cell_type": "markdown",
   "metadata": {},
   "source": [
    "# Report\n",
    "\n",
    "The overall proportion of users who adopted was about 18.8%, suggesting there are opportunities for improvement. Our analysis used a logistic regression model to attain an accuracy of approximately 82% in predicting user adoption in the test set. Our analysis reveals two chief groups of user features that predict user adoption: those that are relatively common among users and show small but significant effects on user adoption; and those that are quite rare but show large and significant effects on adoption. \n",
    "\n",
    "Among the common features in the first group were the Google authentication (SIGNUP_GOOGLE_AUTH) and website (SIGNUP) methods of account creation, seen in 16% and 21% of users respectively, and were each found to have approximately 1.5 times _lower_ odds of adoption compared to those in the other account groups combined. Those joining another user's personal workspace (PERSONAL_PROJECTS, 9% of users) had a 1.06 times _lower_ odds of adoption. In contrast, those with a guest invitation (GUEST_INVITE), making up 18% of users, were found to have 1.03 times _higher_ odds of adoption compared to all other groups. While these effect sizes are small, they are statistically significant, and the combined high prevalence of these features among users indicates the potential impact on overall user adoption. Targetted outreach efforts to users based on account creation method is warranted.\n",
    "\n",
    "The more rare features in the second group primarily concerned certain organization identifications (org_id) of the users. While there were over 400 such identifications, and as such could not all be inserted into a parsimonious model, a small subset consisting of 4 organization identifiers was chosen for the model, each with a mean adoption rate of greater than 50% among associated users. Each of these organization identifiers (387, 235, 289 and 273) showed greater than 2.5 times _higher_ odds of adoption compared to the other combined identifiers, with identifier 387 showing approximately 5 times higher adoption odds. While the users belonging to these 4 organizations made up only 0.46% of all users all together, the high magnitude of the effect on adoption suggests further efforts should be undertaken to determine commonalities or other features among these organizations that could be targeted for understaning and improving user adoption. "
   ]
  },
  {
   "cell_type": "markdown",
   "metadata": {},
   "source": [
    "#### Assignment overview:\n",
    "\n",
    "The data is available as two attached CSV files:\n",
    "takehome_user_engagement.csv\n",
    "takehome_users.csv\n",
    "The data has the following two tables:\n",
    "\n",
    "1] A user table (\"takehome_users\") with data on 12,000 users who signed up for the\n",
    "product in the last two years. This table includes:\n",
    "\n",
    "name: the user's name\n",
    "\n",
    "object_id: the user's id\n",
    "\n",
    "email: email address\n",
    "\n",
    "creation_source: how their account was created. This takes on one\n",
    "of 5 values:\n",
    " PERSONAL_PROJECTS: invited to join another user's\n",
    "personal workspace\n",
    " GUEST_INVITE: invited to an organization as a guest\n",
    "(limited permissions)\n",
    " ORG_INVITE: invited to an organization (as a full member)\n",
    " SIGNUP: signed up via the website\n",
    " SIGNUP_GOOGLE_AUTH: signed up using Google\n",
    "Authentication (using a Google email account for their login\n",
    "id)\n",
    "\n",
    "creation_time: when they created their account\n",
    "\n",
    "last_session_creation_time: unix timestamp of last login\n",
    "\n",
    "opted_in_to_mailing_list: whether they have opted into receiving\n",
    "marketing emails\n",
    "\n",
    "enabled_for_marketing_drip: whether they are on the regular\n",
    "marketing email drip\n",
    "\n",
    "org_id: the organization (group of users) they belong to\n",
    "\n",
    "invited_by_user_id: which user invited them to join (if applicable).\n",
    "\n",
    "2] A usage summary table (\"takehome_user_engagement\") that has a row for each day\n",
    "that a user logged into the product.\n",
    "Defining an \"adopted user\" as a user who has logged into the product on three separate\n",
    "days in at least one seven-day period, identify which factors predict future user\n",
    "adoption.\n",
    "\n",
    "Please send us a brief writeup of your findings (the more concise, the better - no more\n",
    "than one page), along with any summary tables, graphs, code, or queries that can help\n",
    "us understand your approach. Please note any factors you considered or investigation\n",
    "you did, even if they did not pan out. Feel free to identify any further research or data\n",
    "you think would be valuable."
   ]
  },
  {
   "cell_type": "code",
   "execution_count": 2,
   "metadata": {},
   "outputs": [],
   "source": [
    "import numpy as np\n",
    "import pandas as pd\n",
    "import json\n",
    "import sklearn.model_selection\n",
    "\n",
    "from pandas.io.json import json_normalize\n",
    "from datetime import datetime\n",
    "\n",
    "from sklearn.model_selection import train_test_split\n",
    "from sklearn.linear_model import LogisticRegression\n",
    "from sklearn.model_selection import GridSearchCV\n",
    "from sklearn.feature_selection import chi2\n",
    "from sklearn.metrics import accuracy_score\n",
    "from sklearn.ensemble import RandomForestClassifier\n",
    "from sklearn.svm import SVC \n",
    "from sklearn.svm import LinearSVC \n",
    "\n",
    "import matplotlib.pyplot as plt\n",
    "import seaborn as sns \n",
    "sns.set(rc={'figure.figsize':(10,8)})\n",
    "sns.set_style(\"whitegrid\")\n",
    "sns.set_context(\"paper\")\n",
    "%matplotlib inline\n",
    "plt.rcParams['figure.figsize'] = [10, 8]"
   ]
  },
  {
   "cell_type": "code",
   "execution_count": 3,
   "metadata": {},
   "outputs": [],
   "source": [
    "pd.set_option('display.max_row', 1000)\n",
    "pd.set_option('display.max_columns', 100)"
   ]
  },
  {
   "cell_type": "code",
   "execution_count": 4,
   "metadata": {},
   "outputs": [],
   "source": [
    "# Read the csv in to a pandas dataframe\n",
    "usage_df = pd.read_csv('sb_data/takehome_user_engagement.csv')"
   ]
  },
  {
   "cell_type": "code",
   "execution_count": 5,
   "metadata": {},
   "outputs": [
    {
     "name": "stdout",
     "output_type": "stream",
     "text": [
      "<class 'pandas.core.frame.DataFrame'>\n",
      "RangeIndex: 207917 entries, 0 to 207916\n",
      "Data columns (total 3 columns):\n",
      "time_stamp    207917 non-null object\n",
      "user_id       207917 non-null int64\n",
      "visited       207917 non-null int64\n",
      "dtypes: int64(2), object(1)\n",
      "memory usage: 4.8+ MB\n"
     ]
    }
   ],
   "source": [
    "# View data types\n",
    "usage_df.info()"
   ]
  },
  {
   "cell_type": "code",
   "execution_count": 6,
   "metadata": {
    "scrolled": true
   },
   "outputs": [
    {
     "data": {
      "text/html": [
       "<div>\n",
       "<style scoped>\n",
       "    .dataframe tbody tr th:only-of-type {\n",
       "        vertical-align: middle;\n",
       "    }\n",
       "\n",
       "    .dataframe tbody tr th {\n",
       "        vertical-align: top;\n",
       "    }\n",
       "\n",
       "    .dataframe thead th {\n",
       "        text-align: right;\n",
       "    }\n",
       "</style>\n",
       "<table border=\"1\" class=\"dataframe\">\n",
       "  <thead>\n",
       "    <tr style=\"text-align: right;\">\n",
       "      <th></th>\n",
       "      <th>time_stamp</th>\n",
       "      <th>user_id</th>\n",
       "      <th>visited</th>\n",
       "    </tr>\n",
       "  </thead>\n",
       "  <tbody>\n",
       "    <tr>\n",
       "      <th>0</th>\n",
       "      <td>2014-04-22 03:53:30</td>\n",
       "      <td>1</td>\n",
       "      <td>1</td>\n",
       "    </tr>\n",
       "    <tr>\n",
       "      <th>1</th>\n",
       "      <td>2013-11-15 03:45:04</td>\n",
       "      <td>2</td>\n",
       "      <td>1</td>\n",
       "    </tr>\n",
       "    <tr>\n",
       "      <th>2</th>\n",
       "      <td>2013-11-29 03:45:04</td>\n",
       "      <td>2</td>\n",
       "      <td>1</td>\n",
       "    </tr>\n",
       "    <tr>\n",
       "      <th>3</th>\n",
       "      <td>2013-12-09 03:45:04</td>\n",
       "      <td>2</td>\n",
       "      <td>1</td>\n",
       "    </tr>\n",
       "    <tr>\n",
       "      <th>4</th>\n",
       "      <td>2013-12-25 03:45:04</td>\n",
       "      <td>2</td>\n",
       "      <td>1</td>\n",
       "    </tr>\n",
       "  </tbody>\n",
       "</table>\n",
       "</div>"
      ],
      "text/plain": [
       "            time_stamp  user_id  visited\n",
       "0  2014-04-22 03:53:30        1        1\n",
       "1  2013-11-15 03:45:04        2        1\n",
       "2  2013-11-29 03:45:04        2        1\n",
       "3  2013-12-09 03:45:04        2        1\n",
       "4  2013-12-25 03:45:04        2        1"
      ]
     },
     "execution_count": 6,
     "metadata": {},
     "output_type": "execute_result"
    }
   ],
   "source": [
    "# View top of dataframe\n",
    "usage_df.head()"
   ]
  },
  {
   "cell_type": "code",
   "execution_count": 7,
   "metadata": {},
   "outputs": [],
   "source": [
    "# Set time_stamp as datetime64 type with times removed,\n",
    "#  drop 'visited' variable since it's all 1s,\n",
    "\n",
    "usage_df.time_stamp = pd.DatetimeIndex(usage_df.time_stamp, dtype='datetime64[D]')\n",
    "usage_df = usage_df.drop(['visited'], axis=1)\n",
    "#usage_df = usage_df.drop_duplicates()"
   ]
  },
  {
   "cell_type": "code",
   "execution_count": 8,
   "metadata": {},
   "outputs": [],
   "source": [
    "# Set time_stamp as index and set its column to int64\n",
    "usage_df['ind'] = usage_df.time_stamp\n",
    "usage_df.time_stamp = usage_df.time_stamp.astype(np.int64)\n",
    "usage_df = usage_df.set_index('ind')"
   ]
  },
  {
   "cell_type": "code",
   "execution_count": 9,
   "metadata": {},
   "outputs": [
    {
     "name": "stdout",
     "output_type": "stream",
     "text": [
      "<class 'pandas.core.frame.DataFrame'>\n",
      "DatetimeIndex: 207917 entries, 2014-04-22 03:53:30 to 2014-01-26 08:57:12\n",
      "Data columns (total 2 columns):\n",
      "time_stamp    207917 non-null int64\n",
      "user_id       207917 non-null int64\n",
      "dtypes: int64(2)\n",
      "memory usage: 4.8 MB\n"
     ]
    }
   ],
   "source": [
    "usage_df.info()"
   ]
  },
  {
   "cell_type": "code",
   "execution_count": 10,
   "metadata": {},
   "outputs": [
    {
     "data": {
      "text/html": [
       "<div>\n",
       "<style scoped>\n",
       "    .dataframe tbody tr th:only-of-type {\n",
       "        vertical-align: middle;\n",
       "    }\n",
       "\n",
       "    .dataframe tbody tr th {\n",
       "        vertical-align: top;\n",
       "    }\n",
       "\n",
       "    .dataframe thead th {\n",
       "        text-align: right;\n",
       "    }\n",
       "</style>\n",
       "<table border=\"1\" class=\"dataframe\">\n",
       "  <thead>\n",
       "    <tr style=\"text-align: right;\">\n",
       "      <th></th>\n",
       "      <th>time_stamp</th>\n",
       "      <th>user_id</th>\n",
       "    </tr>\n",
       "    <tr>\n",
       "      <th>ind</th>\n",
       "      <th></th>\n",
       "      <th></th>\n",
       "    </tr>\n",
       "  </thead>\n",
       "  <tbody>\n",
       "    <tr>\n",
       "      <th>2014-04-22 03:53:30</th>\n",
       "      <td>1398138810000000000</td>\n",
       "      <td>1</td>\n",
       "    </tr>\n",
       "    <tr>\n",
       "      <th>2013-11-15 03:45:04</th>\n",
       "      <td>1384487104000000000</td>\n",
       "      <td>2</td>\n",
       "    </tr>\n",
       "    <tr>\n",
       "      <th>2013-11-29 03:45:04</th>\n",
       "      <td>1385696704000000000</td>\n",
       "      <td>2</td>\n",
       "    </tr>\n",
       "    <tr>\n",
       "      <th>2013-12-09 03:45:04</th>\n",
       "      <td>1386560704000000000</td>\n",
       "      <td>2</td>\n",
       "    </tr>\n",
       "    <tr>\n",
       "      <th>2013-12-25 03:45:04</th>\n",
       "      <td>1387943104000000000</td>\n",
       "      <td>2</td>\n",
       "    </tr>\n",
       "    <tr>\n",
       "      <th>2013-12-31 03:45:04</th>\n",
       "      <td>1388461504000000000</td>\n",
       "      <td>2</td>\n",
       "    </tr>\n",
       "    <tr>\n",
       "      <th>2014-01-08 03:45:04</th>\n",
       "      <td>1389152704000000000</td>\n",
       "      <td>2</td>\n",
       "    </tr>\n",
       "    <tr>\n",
       "      <th>2014-02-03 03:45:04</th>\n",
       "      <td>1391399104000000000</td>\n",
       "      <td>2</td>\n",
       "    </tr>\n",
       "    <tr>\n",
       "      <th>2014-02-08 03:45:04</th>\n",
       "      <td>1391831104000000000</td>\n",
       "      <td>2</td>\n",
       "    </tr>\n",
       "    <tr>\n",
       "      <th>2014-02-09 03:45:04</th>\n",
       "      <td>1391917504000000000</td>\n",
       "      <td>2</td>\n",
       "    </tr>\n",
       "    <tr>\n",
       "      <th>2014-02-13 03:45:04</th>\n",
       "      <td>1392263104000000000</td>\n",
       "      <td>2</td>\n",
       "    </tr>\n",
       "    <tr>\n",
       "      <th>2014-02-16 03:45:04</th>\n",
       "      <td>1392522304000000000</td>\n",
       "      <td>2</td>\n",
       "    </tr>\n",
       "    <tr>\n",
       "      <th>2014-03-09 03:45:04</th>\n",
       "      <td>1394336704000000000</td>\n",
       "      <td>2</td>\n",
       "    </tr>\n",
       "    <tr>\n",
       "      <th>2014-03-13 03:45:04</th>\n",
       "      <td>1394682304000000000</td>\n",
       "      <td>2</td>\n",
       "    </tr>\n",
       "    <tr>\n",
       "      <th>2014-03-31 03:45:04</th>\n",
       "      <td>1396237504000000000</td>\n",
       "      <td>2</td>\n",
       "    </tr>\n",
       "    <tr>\n",
       "      <th>2013-03-19 23:14:52</th>\n",
       "      <td>1363734892000000000</td>\n",
       "      <td>3</td>\n",
       "    </tr>\n",
       "    <tr>\n",
       "      <th>2013-05-22 08:09:28</th>\n",
       "      <td>1369210168000000000</td>\n",
       "      <td>4</td>\n",
       "    </tr>\n",
       "    <tr>\n",
       "      <th>2013-01-22 10:14:20</th>\n",
       "      <td>1358849660000000000</td>\n",
       "      <td>5</td>\n",
       "    </tr>\n",
       "    <tr>\n",
       "      <th>2013-12-19 03:37:06</th>\n",
       "      <td>1387424226000000000</td>\n",
       "      <td>6</td>\n",
       "    </tr>\n",
       "    <tr>\n",
       "      <th>2012-12-20 13:24:32</th>\n",
       "      <td>1356009872000000000</td>\n",
       "      <td>7</td>\n",
       "    </tr>\n",
       "  </tbody>\n",
       "</table>\n",
       "</div>"
      ],
      "text/plain": [
       "                              time_stamp  user_id\n",
       "ind                                              \n",
       "2014-04-22 03:53:30  1398138810000000000        1\n",
       "2013-11-15 03:45:04  1384487104000000000        2\n",
       "2013-11-29 03:45:04  1385696704000000000        2\n",
       "2013-12-09 03:45:04  1386560704000000000        2\n",
       "2013-12-25 03:45:04  1387943104000000000        2\n",
       "2013-12-31 03:45:04  1388461504000000000        2\n",
       "2014-01-08 03:45:04  1389152704000000000        2\n",
       "2014-02-03 03:45:04  1391399104000000000        2\n",
       "2014-02-08 03:45:04  1391831104000000000        2\n",
       "2014-02-09 03:45:04  1391917504000000000        2\n",
       "2014-02-13 03:45:04  1392263104000000000        2\n",
       "2014-02-16 03:45:04  1392522304000000000        2\n",
       "2014-03-09 03:45:04  1394336704000000000        2\n",
       "2014-03-13 03:45:04  1394682304000000000        2\n",
       "2014-03-31 03:45:04  1396237504000000000        2\n",
       "2013-03-19 23:14:52  1363734892000000000        3\n",
       "2013-05-22 08:09:28  1369210168000000000        4\n",
       "2013-01-22 10:14:20  1358849660000000000        5\n",
       "2013-12-19 03:37:06  1387424226000000000        6\n",
       "2012-12-20 13:24:32  1356009872000000000        7"
      ]
     },
     "execution_count": 10,
     "metadata": {},
     "output_type": "execute_result"
    }
   ],
   "source": [
    "usage_df.head(20)"
   ]
  },
  {
   "cell_type": "code",
   "execution_count": 11,
   "metadata": {},
   "outputs": [],
   "source": [
    "# Create variable 'adopted' by counting interval (in days) of\n",
    "#  occurence of 3 login days, grouped by user, then set\n",
    "#  'adopted' boolean to True when interval <=7\n",
    "\n",
    "i = pd.to_timedelta((usage_df.groupby('user_id')['time_stamp'].rolling(3).max() - \\\n",
    "                     usage_df.groupby('user_id')['time_stamp'].rolling(3).min())).dt.days \\\n",
    "        <= 7"
   ]
  },
  {
   "cell_type": "code",
   "execution_count": 12,
   "metadata": {},
   "outputs": [],
   "source": [
    "# Extract user_id from multi-index\n",
    "#  pull out 'adopted' variable as Series, \n",
    "#  combine with user_id as index into new dataframe,\n",
    "#  set 'adopted' boolean to integer\n",
    "\n",
    "i_indx = i.index.get_level_values('user_id').tolist()\n",
    "i_s = pd.Series(i)\n",
    "i_df = pd.DataFrame(list(zip(i_indx, i_s)), columns=['user_id','adopted'])\n",
    "i_df.adopted = i_df.adopted.astype(np.int8)"
   ]
  },
  {
   "cell_type": "code",
   "execution_count": 13,
   "metadata": {},
   "outputs": [],
   "source": [
    "# Create series with unique user_id with boolean\n",
    "#  set to any occurrence of adoption for a user\n",
    "adopt_s = i_df.groupby('user_id')['adopted'].sum() > 0"
   ]
  },
  {
   "cell_type": "code",
   "execution_count": 14,
   "metadata": {},
   "outputs": [],
   "source": [
    "# Convert to dataframe in order to merge\n",
    "adopt_df = pd.Series.to_frame(adopt_s)"
   ]
  },
  {
   "cell_type": "code",
   "execution_count": null,
   "metadata": {},
   "outputs": [],
   "source": []
  },
  {
   "cell_type": "code",
   "execution_count": 15,
   "metadata": {},
   "outputs": [],
   "source": [
    "# Read the users csv in to a pandas dataframe\n",
    "#  (note that it had to be converted to UTF8\n",
    "#   beforehand)\n",
    "users_df = pd.read_csv('sb_data/takehome_users_utf8.csv')"
   ]
  },
  {
   "cell_type": "code",
   "execution_count": 16,
   "metadata": {},
   "outputs": [],
   "source": [
    "# Merge in the 'adopted' variable and set to integer\n",
    "users_df = pd.merge(users_df, adopt_df, left_on='object_id', right_index=True)\n",
    "\n",
    "users_df.adopted = users_df.adopted.astype(np.int8)"
   ]
  },
  {
   "cell_type": "code",
   "execution_count": 17,
   "metadata": {},
   "outputs": [
    {
     "data": {
      "text/plain": [
       "(8823, 11)"
      ]
     },
     "execution_count": 17,
     "metadata": {},
     "output_type": "execute_result"
    }
   ],
   "source": [
    "users_df.shape"
   ]
  },
  {
   "cell_type": "code",
   "execution_count": 18,
   "metadata": {},
   "outputs": [
    {
     "name": "stdout",
     "output_type": "stream",
     "text": [
      "<class 'pandas.core.frame.DataFrame'>\n",
      "Int64Index: 8823 entries, 0 to 11999\n",
      "Data columns (total 11 columns):\n",
      "object_id                     8823 non-null int64\n",
      "creation_time                 8823 non-null object\n",
      "name                          8823 non-null object\n",
      "email                         8823 non-null object\n",
      "creation_source               8823 non-null object\n",
      "last_session_creation_time    8823 non-null float64\n",
      "opted_in_to_mailing_list      8823 non-null int64\n",
      "enabled_for_marketing_drip    8823 non-null int64\n",
      "org_id                        8823 non-null int64\n",
      "invited_by_user_id            4776 non-null float64\n",
      "adopted                       8823 non-null int8\n",
      "dtypes: float64(2), int64(4), int8(1), object(4)\n",
      "memory usage: 766.8+ KB\n"
     ]
    }
   ],
   "source": [
    "users_df.info()"
   ]
  },
  {
   "cell_type": "code",
   "execution_count": 20,
   "metadata": {},
   "outputs": [
    {
     "data": {
      "text/html": [
       "<div>\n",
       "<style scoped>\n",
       "    .dataframe tbody tr th:only-of-type {\n",
       "        vertical-align: middle;\n",
       "    }\n",
       "\n",
       "    .dataframe tbody tr th {\n",
       "        vertical-align: top;\n",
       "    }\n",
       "\n",
       "    .dataframe thead th {\n",
       "        text-align: right;\n",
       "    }\n",
       "</style>\n",
       "<table border=\"1\" class=\"dataframe\">\n",
       "  <thead>\n",
       "    <tr style=\"text-align: right;\">\n",
       "      <th></th>\n",
       "      <th>object_id</th>\n",
       "      <th>creation_time</th>\n",
       "      <th>name</th>\n",
       "      <th>email</th>\n",
       "      <th>creation_source</th>\n",
       "      <th>last_session_creation_time</th>\n",
       "      <th>opted_in_to_mailing_list</th>\n",
       "      <th>enabled_for_marketing_drip</th>\n",
       "      <th>org_id</th>\n",
       "      <th>invited_by_user_id</th>\n",
       "      <th>adopted</th>\n",
       "    </tr>\n",
       "  </thead>\n",
       "  <tbody>\n",
       "    <tr>\n",
       "      <th>0</th>\n",
       "      <td>1</td>\n",
       "      <td>2014-04-22 03:53:30</td>\n",
       "      <td>Clausen August</td>\n",
       "      <td>AugustCClausen@yahoo.com</td>\n",
       "      <td>GUEST_INVITE</td>\n",
       "      <td>1.398139e+09</td>\n",
       "      <td>1</td>\n",
       "      <td>0</td>\n",
       "      <td>11</td>\n",
       "      <td>10803.0</td>\n",
       "      <td>0</td>\n",
       "    </tr>\n",
       "    <tr>\n",
       "      <th>1</th>\n",
       "      <td>2</td>\n",
       "      <td>2013-11-15 03:45:04</td>\n",
       "      <td>Poole Matthew</td>\n",
       "      <td>MatthewPoole@gustr.com</td>\n",
       "      <td>ORG_INVITE</td>\n",
       "      <td>1.396238e+09</td>\n",
       "      <td>0</td>\n",
       "      <td>0</td>\n",
       "      <td>1</td>\n",
       "      <td>316.0</td>\n",
       "      <td>1</td>\n",
       "    </tr>\n",
       "    <tr>\n",
       "      <th>2</th>\n",
       "      <td>3</td>\n",
       "      <td>2013-03-19 23:14:52</td>\n",
       "      <td>Bottrill Mitchell</td>\n",
       "      <td>MitchellBottrill@gustr.com</td>\n",
       "      <td>ORG_INVITE</td>\n",
       "      <td>1.363735e+09</td>\n",
       "      <td>0</td>\n",
       "      <td>0</td>\n",
       "      <td>94</td>\n",
       "      <td>1525.0</td>\n",
       "      <td>0</td>\n",
       "    </tr>\n",
       "    <tr>\n",
       "      <th>3</th>\n",
       "      <td>4</td>\n",
       "      <td>2013-05-21 08:09:28</td>\n",
       "      <td>Clausen Nicklas</td>\n",
       "      <td>NicklasSClausen@yahoo.com</td>\n",
       "      <td>GUEST_INVITE</td>\n",
       "      <td>1.369210e+09</td>\n",
       "      <td>0</td>\n",
       "      <td>0</td>\n",
       "      <td>1</td>\n",
       "      <td>5151.0</td>\n",
       "      <td>0</td>\n",
       "    </tr>\n",
       "    <tr>\n",
       "      <th>4</th>\n",
       "      <td>5</td>\n",
       "      <td>2013-01-17 10:14:20</td>\n",
       "      <td>Raw Grace</td>\n",
       "      <td>GraceRaw@yahoo.com</td>\n",
       "      <td>GUEST_INVITE</td>\n",
       "      <td>1.358850e+09</td>\n",
       "      <td>0</td>\n",
       "      <td>0</td>\n",
       "      <td>193</td>\n",
       "      <td>5240.0</td>\n",
       "      <td>0</td>\n",
       "    </tr>\n",
       "  </tbody>\n",
       "</table>\n",
       "</div>"
      ],
      "text/plain": [
       "   object_id        creation_time               name  \\\n",
       "0          1  2014-04-22 03:53:30     Clausen August   \n",
       "1          2  2013-11-15 03:45:04      Poole Matthew   \n",
       "2          3  2013-03-19 23:14:52  Bottrill Mitchell   \n",
       "3          4  2013-05-21 08:09:28    Clausen Nicklas   \n",
       "4          5  2013-01-17 10:14:20          Raw Grace   \n",
       "\n",
       "                        email creation_source  last_session_creation_time  \\\n",
       "0    AugustCClausen@yahoo.com    GUEST_INVITE                1.398139e+09   \n",
       "1      MatthewPoole@gustr.com      ORG_INVITE                1.396238e+09   \n",
       "2  MitchellBottrill@gustr.com      ORG_INVITE                1.363735e+09   \n",
       "3   NicklasSClausen@yahoo.com    GUEST_INVITE                1.369210e+09   \n",
       "4          GraceRaw@yahoo.com    GUEST_INVITE                1.358850e+09   \n",
       "\n",
       "   opted_in_to_mailing_list  enabled_for_marketing_drip  org_id  \\\n",
       "0                         1                           0      11   \n",
       "1                         0                           0       1   \n",
       "2                         0                           0      94   \n",
       "3                         0                           0       1   \n",
       "4                         0                           0     193   \n",
       "\n",
       "   invited_by_user_id  adopted  \n",
       "0             10803.0        0  \n",
       "1               316.0        1  \n",
       "2              1525.0        0  \n",
       "3              5151.0        0  \n",
       "4              5240.0        0  "
      ]
     },
     "execution_count": 20,
     "metadata": {},
     "output_type": "execute_result"
    }
   ],
   "source": [
    "users_df.head(5)"
   ]
  },
  {
   "cell_type": "code",
   "execution_count": 21,
   "metadata": {},
   "outputs": [
    {
     "name": "stdout",
     "output_type": "stream",
     "text": [
      "Mean adoption by user's organization ID:\n",
      " (top 10 organizations)\n",
      " org_id\n",
      "387    0.636364\n",
      "235    0.600000\n",
      "273    0.555556\n",
      "289    0.545455\n",
      "400    0.500000\n",
      "392    0.500000\n",
      "386    0.500000\n",
      "117    0.500000\n",
      "399    0.500000\n",
      "Name: adopted, dtype: float64\n"
     ]
    }
   ],
   "source": [
    "result = users_df.groupby('org_id')['adopted'].mean()\n",
    "result = result.sort_values(ascending=False)\n",
    "\n",
    "print('Mean adoption by user\\'s organization ID:\\n',\n",
    "      '(top 10 organizations)\\n',\n",
    "      result[0:9])"
   ]
  },
  {
   "cell_type": "code",
   "execution_count": 22,
   "metadata": {},
   "outputs": [
    {
     "name": "stdout",
     "output_type": "stream",
     "text": [
      "Proportion of users by creation source:\n",
      " ORG_INVITE            0.361328\n",
      "SIGNUP                0.215120\n",
      "GUEST_INVITE          0.179984\n",
      "SIGNUP_GOOGLE_AUTH    0.156976\n",
      "PERSONAL_PROJECTS     0.086592\n",
      "Name: creation_source, dtype: float64\n"
     ]
    }
   ],
   "source": [
    "print('Proportion of users by creation source:\\n',\n",
    "      users_df['creation_source'].value_counts() / users_df.shape[0])"
   ]
  },
  {
   "cell_type": "code",
   "execution_count": 23,
   "metadata": {},
   "outputs": [],
   "source": [
    "# Create new dummy variable to code categorical variables \n",
    "users_df['org_invite'] = users_df['creation_source']=='ORG_INVITE'\n",
    "users_df['signup'] = users_df['creation_source']=='SIGNUP'\n",
    "users_df['guest_invite'] = users_df['creation_source']=='GUEST_INVITE'\n",
    "users_df['google_auth'] = users_df['creation_source']=='SIGNUP_GOOGLE_AUTH'\n",
    "users_df['personal_proj'] = users_df['creation_source']=='PERSONAL_PROJECTS'\n",
    "\n",
    "users_df['org_invite'] = users_df['org_invite'].astype(np.int8)\n",
    "users_df['signup'] = users_df['signup'].astype(np.int8)\n",
    "users_df['guest_invite'] = users_df['guest_invite'].astype(np.int8)\n",
    "users_df['google_auth'] = users_df['google_auth'].astype(np.int8)\n",
    "users_df['personal_proj'] = users_df['personal_proj'].astype(np.int8)\n",
    "\n",
    "# Create dummy variables to code certain org_id shown to have \n",
    "#   > 50% adoption as shown above\n",
    "users_df['org_387'] = users_df['org_id']==387\n",
    "users_df['org_235'] = users_df['org_id']==235\n",
    "users_df['org_273'] = users_df['org_id']==273\n",
    "users_df['org_289'] = users_df['org_id']==289\n",
    "\n",
    "users_df['org_387'] = users_df['org_387'].astype(np.int8)\n",
    "users_df['org_235'] = users_df['org_235'].astype(np.int8)\n",
    "users_df['org_273'] = users_df['org_273'].astype(np.int8)\n",
    "users_df['org_289'] = users_df['org_289'].astype(np.int8)"
   ]
  },
  {
   "cell_type": "code",
   "execution_count": 24,
   "metadata": {},
   "outputs": [
    {
     "name": "stdout",
     "output_type": "stream",
     "text": [
      "The proportion of users adopted (i.e., 3 days w/login in a 7 day interval): 0.18769126147568854\n"
     ]
    }
   ],
   "source": [
    "print('The proportion of users adopted (i.e., 3 days w/login in a 7 day interval):', \n",
    "       users_df['adopted'][users_df['adopted']==True].count() / users_df.shape[0])"
   ]
  },
  {
   "cell_type": "code",
   "execution_count": 25,
   "metadata": {
    "scrolled": true
   },
   "outputs": [
    {
     "data": {
      "text/html": [
       "<div>\n",
       "<style scoped>\n",
       "    .dataframe tbody tr th:only-of-type {\n",
       "        vertical-align: middle;\n",
       "    }\n",
       "\n",
       "    .dataframe tbody tr th {\n",
       "        vertical-align: top;\n",
       "    }\n",
       "\n",
       "    .dataframe thead th {\n",
       "        text-align: right;\n",
       "    }\n",
       "</style>\n",
       "<table border=\"1\" class=\"dataframe\">\n",
       "  <thead>\n",
       "    <tr style=\"text-align: right;\">\n",
       "      <th></th>\n",
       "      <th>object_id</th>\n",
       "      <th>last_session_creation_time</th>\n",
       "      <th>opted_in_to_mailing_list</th>\n",
       "      <th>enabled_for_marketing_drip</th>\n",
       "      <th>org_id</th>\n",
       "      <th>invited_by_user_id</th>\n",
       "      <th>adopted</th>\n",
       "      <th>org_invite</th>\n",
       "      <th>signup</th>\n",
       "      <th>guest_invite</th>\n",
       "      <th>google_auth</th>\n",
       "      <th>personal_proj</th>\n",
       "      <th>org_387</th>\n",
       "      <th>org_235</th>\n",
       "      <th>org_273</th>\n",
       "      <th>org_289</th>\n",
       "    </tr>\n",
       "  </thead>\n",
       "  <tbody>\n",
       "    <tr>\n",
       "      <th>count</th>\n",
       "      <td>8823.000000</td>\n",
       "      <td>8.823000e+03</td>\n",
       "      <td>8823.000000</td>\n",
       "      <td>8823.000000</td>\n",
       "      <td>8823.000000</td>\n",
       "      <td>4776.000000</td>\n",
       "      <td>8823.000000</td>\n",
       "      <td>8823.000000</td>\n",
       "      <td>8823.000000</td>\n",
       "      <td>8823.000000</td>\n",
       "      <td>8823.000000</td>\n",
       "      <td>8823.000000</td>\n",
       "      <td>8823.000000</td>\n",
       "      <td>8823.000000</td>\n",
       "      <td>8823.000000</td>\n",
       "      <td>8823.000000</td>\n",
       "    </tr>\n",
       "    <tr>\n",
       "      <th>mean</th>\n",
       "      <td>6019.821716</td>\n",
       "      <td>1.379279e+09</td>\n",
       "      <td>0.252295</td>\n",
       "      <td>0.151989</td>\n",
       "      <td>142.572254</td>\n",
       "      <td>5980.495394</td>\n",
       "      <td>0.187691</td>\n",
       "      <td>0.361328</td>\n",
       "      <td>0.215120</td>\n",
       "      <td>0.179984</td>\n",
       "      <td>0.156976</td>\n",
       "      <td>0.086592</td>\n",
       "      <td>0.001247</td>\n",
       "      <td>0.001133</td>\n",
       "      <td>0.001020</td>\n",
       "      <td>0.001247</td>\n",
       "    </tr>\n",
       "    <tr>\n",
       "      <th>std</th>\n",
       "      <td>3464.251001</td>\n",
       "      <td>1.953116e+07</td>\n",
       "      <td>0.434354</td>\n",
       "      <td>0.359031</td>\n",
       "      <td>124.176422</td>\n",
       "      <td>3394.211361</td>\n",
       "      <td>0.390488</td>\n",
       "      <td>0.480413</td>\n",
       "      <td>0.410929</td>\n",
       "      <td>0.384196</td>\n",
       "      <td>0.363799</td>\n",
       "      <td>0.281252</td>\n",
       "      <td>0.035289</td>\n",
       "      <td>0.033649</td>\n",
       "      <td>0.031924</td>\n",
       "      <td>0.035289</td>\n",
       "    </tr>\n",
       "    <tr>\n",
       "      <th>min</th>\n",
       "      <td>1.000000</td>\n",
       "      <td>1.338452e+09</td>\n",
       "      <td>0.000000</td>\n",
       "      <td>0.000000</td>\n",
       "      <td>0.000000</td>\n",
       "      <td>3.000000</td>\n",
       "      <td>0.000000</td>\n",
       "      <td>0.000000</td>\n",
       "      <td>0.000000</td>\n",
       "      <td>0.000000</td>\n",
       "      <td>0.000000</td>\n",
       "      <td>0.000000</td>\n",
       "      <td>0.000000</td>\n",
       "      <td>0.000000</td>\n",
       "      <td>0.000000</td>\n",
       "      <td>0.000000</td>\n",
       "    </tr>\n",
       "    <tr>\n",
       "      <th>25%</th>\n",
       "      <td>3017.500000</td>\n",
       "      <td>1.363195e+09</td>\n",
       "      <td>0.000000</td>\n",
       "      <td>0.000000</td>\n",
       "      <td>30.000000</td>\n",
       "      <td>3071.000000</td>\n",
       "      <td>0.000000</td>\n",
       "      <td>0.000000</td>\n",
       "      <td>0.000000</td>\n",
       "      <td>0.000000</td>\n",
       "      <td>0.000000</td>\n",
       "      <td>0.000000</td>\n",
       "      <td>0.000000</td>\n",
       "      <td>0.000000</td>\n",
       "      <td>0.000000</td>\n",
       "      <td>0.000000</td>\n",
       "    </tr>\n",
       "    <tr>\n",
       "      <th>50%</th>\n",
       "      <td>6034.000000</td>\n",
       "      <td>1.382888e+09</td>\n",
       "      <td>0.000000</td>\n",
       "      <td>0.000000</td>\n",
       "      <td>109.000000</td>\n",
       "      <td>5947.000000</td>\n",
       "      <td>0.000000</td>\n",
       "      <td>0.000000</td>\n",
       "      <td>0.000000</td>\n",
       "      <td>0.000000</td>\n",
       "      <td>0.000000</td>\n",
       "      <td>0.000000</td>\n",
       "      <td>0.000000</td>\n",
       "      <td>0.000000</td>\n",
       "      <td>0.000000</td>\n",
       "      <td>0.000000</td>\n",
       "    </tr>\n",
       "    <tr>\n",
       "      <th>75%</th>\n",
       "      <td>9029.500000</td>\n",
       "      <td>1.398443e+09</td>\n",
       "      <td>1.000000</td>\n",
       "      <td>0.000000</td>\n",
       "      <td>239.000000</td>\n",
       "      <td>8857.250000</td>\n",
       "      <td>0.000000</td>\n",
       "      <td>1.000000</td>\n",
       "      <td>0.000000</td>\n",
       "      <td>0.000000</td>\n",
       "      <td>0.000000</td>\n",
       "      <td>0.000000</td>\n",
       "      <td>0.000000</td>\n",
       "      <td>0.000000</td>\n",
       "      <td>0.000000</td>\n",
       "      <td>0.000000</td>\n",
       "    </tr>\n",
       "    <tr>\n",
       "      <th>max</th>\n",
       "      <td>12000.000000</td>\n",
       "      <td>1.402067e+09</td>\n",
       "      <td>1.000000</td>\n",
       "      <td>1.000000</td>\n",
       "      <td>416.000000</td>\n",
       "      <td>11999.000000</td>\n",
       "      <td>1.000000</td>\n",
       "      <td>1.000000</td>\n",
       "      <td>1.000000</td>\n",
       "      <td>1.000000</td>\n",
       "      <td>1.000000</td>\n",
       "      <td>1.000000</td>\n",
       "      <td>1.000000</td>\n",
       "      <td>1.000000</td>\n",
       "      <td>1.000000</td>\n",
       "      <td>1.000000</td>\n",
       "    </tr>\n",
       "  </tbody>\n",
       "</table>\n",
       "</div>"
      ],
      "text/plain": [
       "          object_id  last_session_creation_time  opted_in_to_mailing_list  \\\n",
       "count   8823.000000                8.823000e+03               8823.000000   \n",
       "mean    6019.821716                1.379279e+09                  0.252295   \n",
       "std     3464.251001                1.953116e+07                  0.434354   \n",
       "min        1.000000                1.338452e+09                  0.000000   \n",
       "25%     3017.500000                1.363195e+09                  0.000000   \n",
       "50%     6034.000000                1.382888e+09                  0.000000   \n",
       "75%     9029.500000                1.398443e+09                  1.000000   \n",
       "max    12000.000000                1.402067e+09                  1.000000   \n",
       "\n",
       "       enabled_for_marketing_drip       org_id  invited_by_user_id  \\\n",
       "count                 8823.000000  8823.000000         4776.000000   \n",
       "mean                     0.151989   142.572254         5980.495394   \n",
       "std                      0.359031   124.176422         3394.211361   \n",
       "min                      0.000000     0.000000            3.000000   \n",
       "25%                      0.000000    30.000000         3071.000000   \n",
       "50%                      0.000000   109.000000         5947.000000   \n",
       "75%                      0.000000   239.000000         8857.250000   \n",
       "max                      1.000000   416.000000        11999.000000   \n",
       "\n",
       "           adopted   org_invite       signup  guest_invite  google_auth  \\\n",
       "count  8823.000000  8823.000000  8823.000000   8823.000000  8823.000000   \n",
       "mean      0.187691     0.361328     0.215120      0.179984     0.156976   \n",
       "std       0.390488     0.480413     0.410929      0.384196     0.363799   \n",
       "min       0.000000     0.000000     0.000000      0.000000     0.000000   \n",
       "25%       0.000000     0.000000     0.000000      0.000000     0.000000   \n",
       "50%       0.000000     0.000000     0.000000      0.000000     0.000000   \n",
       "75%       0.000000     1.000000     0.000000      0.000000     0.000000   \n",
       "max       1.000000     1.000000     1.000000      1.000000     1.000000   \n",
       "\n",
       "       personal_proj      org_387      org_235      org_273      org_289  \n",
       "count    8823.000000  8823.000000  8823.000000  8823.000000  8823.000000  \n",
       "mean        0.086592     0.001247     0.001133     0.001020     0.001247  \n",
       "std         0.281252     0.035289     0.033649     0.031924     0.035289  \n",
       "min         0.000000     0.000000     0.000000     0.000000     0.000000  \n",
       "25%         0.000000     0.000000     0.000000     0.000000     0.000000  \n",
       "50%         0.000000     0.000000     0.000000     0.000000     0.000000  \n",
       "75%         0.000000     0.000000     0.000000     0.000000     0.000000  \n",
       "max         1.000000     1.000000     1.000000     1.000000     1.000000  "
      ]
     },
     "execution_count": 25,
     "metadata": {},
     "output_type": "execute_result"
    }
   ],
   "source": [
    "users_df.describe()"
   ]
  },
  {
   "cell_type": "code",
   "execution_count": 27,
   "metadata": {},
   "outputs": [],
   "source": [
    "# Create a predictive analysis dataset using\n",
    "#  select feature variables and 'adopted', \n",
    "#  and drop rows with missing values\n",
    "\n",
    "select_vars = ['opted_in_to_mailing_list', \n",
    "               'enabled_for_marketing_drip',\n",
    "               'org_invite',\n",
    "               'signup',\n",
    "               'guest_invite',\n",
    "               'google_auth',\n",
    "               'personal_proj',\n",
    "               'org_387',\n",
    "               'org_235',\n",
    "               'org_273',\n",
    "               'org_289']\n",
    "selects = select_vars + ['adopted']\n",
    "\n",
    "u_df_nona = users_df[selects]\n",
    "u_df_nona = u_df_nona.dropna()"
   ]
  },
  {
   "cell_type": "code",
   "execution_count": 28,
   "metadata": {},
   "outputs": [
    {
     "data": {
      "text/plain": [
       "(8823, 12)"
      ]
     },
     "execution_count": 28,
     "metadata": {},
     "output_type": "execute_result"
    }
   ],
   "source": [
    "u_df_nona.shape"
   ]
  },
  {
   "cell_type": "code",
   "execution_count": 29,
   "metadata": {},
   "outputs": [
    {
     "data": {
      "image/png": "[encoded data removed]",
      "text/plain": [
       "<matplotlib.figure.Figure at 0x7f4bedc4d9b0>"
      ]
     },
     "metadata": {},
     "output_type": "display_data"
    }
   ],
   "source": [
    "# Create heatmapped correlation matrix of select variables\n",
    "corr = u_df_nona.corr()\n",
    "fig, ax = plt.subplots(figsize=(12, 10))\n",
    "colormap = sns.diverging_palette(220, 10, as_cmap=True)\n",
    "sns.heatmap(corr, cmap=colormap, annot=True, fmt=\".2f\")\n",
    "plt.show()"
   ]
  },
  {
   "cell_type": "code",
   "execution_count": 30,
   "metadata": {},
   "outputs": [],
   "source": [
    "# Split the data into training and test sets\n",
    "Xlr, Xtestlr, ylr, ytestlr = train_test_split(u_df_nona[select_vars].values, \n",
    "                                              u_df_nona.adopted.values,\n",
    "                                              test_size=0.2,\n",
    "                                              random_state=5)"
   ]
  },
  {
   "cell_type": "code",
   "execution_count": 31,
   "metadata": {},
   "outputs": [
    {
     "name": "stdout",
     "output_type": "stream",
     "text": [
      "0.8209631728045326\n"
     ]
    }
   ],
   "source": [
    "# Set up logistic regression\n",
    "\n",
    "lgr_clf = LogisticRegression()\n",
    "\n",
    "# Fit on the training data\n",
    "lgr_clf.fit(Xlr, ylr)\n",
    "\n",
    "# View accuracy on the test data\n",
    "print(accuracy_score(lgr_clf.predict(Xtestlr), ytestlr))"
   ]
  },
  {
   "cell_type": "markdown",
   "metadata": {},
   "source": [
    "#### No significant improvement is found with grid search (data not shown), so we will use the original logistic regression model."
   ]
  },
  {
   "cell_type": "code",
   "execution_count": 32,
   "metadata": {},
   "outputs": [
    {
     "data": {
      "text/plain": [
       "array([8.60045680e-01, 7.41116333e-01, 4.29773558e-01, 1.98242531e-02,\n",
       "       4.87323607e-06, 1.10213614e-02, 3.94244825e-02, 3.89882633e-05,\n",
       "       5.15168313e-03, 2.53030767e-02, 2.53030767e-02])"
      ]
     },
     "execution_count": 32,
     "metadata": {},
     "output_type": "execute_result"
    }
   ],
   "source": [
    "# Obtain p values from chi2\n",
    "\n",
    "scores, pvalues = chi2(Xlr, ylr)\n",
    "pvalues"
   ]
  },
  {
   "cell_type": "code",
   "execution_count": 33,
   "metadata": {},
   "outputs": [
    {
     "data": {
      "text/plain": [
       "array([0.99397706, 1.03472291, 0.7420657 , 0.65728853, 1.03931301,\n",
       "       0.62845835, 0.94223956, 4.96161102, 3.18958665, 2.6235354 ,\n",
       "       2.73585527])"
      ]
     },
     "execution_count": 33,
     "metadata": {},
     "output_type": "execute_result"
    }
   ],
   "source": [
    "# Create new dataframe showing feature names and \n",
    "#  their logistic regression coefficients and p values,\n",
    "#  after first obtaining odds ratios\n",
    "\n",
    "ors = np.exp(lgr_clf.coef_)\n",
    "ors = ors[0]\n",
    "ors"
   ]
  },
  {
   "cell_type": "code",
   "execution_count": 34,
   "metadata": {},
   "outputs": [],
   "source": [
    "lgr_c_p = list(zip(lgr_clf.coef_[0],ors, pvalues))\n",
    "lgr_features = pd.DataFrame(lgr_c_p,\n",
    "                                   index = select_vars,\n",
    "                                   columns=['LGR_Coefficient','Odds Ratio','p_value'])"
   ]
  },
  {
   "cell_type": "code",
   "execution_count": 35,
   "metadata": {
    "scrolled": true
   },
   "outputs": [
    {
     "data": {
      "text/html": [
       "<div>\n",
       "<style scoped>\n",
       "    .dataframe tbody tr th:only-of-type {\n",
       "        vertical-align: middle;\n",
       "    }\n",
       "\n",
       "    .dataframe tbody tr th {\n",
       "        vertical-align: top;\n",
       "    }\n",
       "\n",
       "    .dataframe thead th {\n",
       "        text-align: right;\n",
       "    }\n",
       "</style>\n",
       "<table border=\"1\" class=\"dataframe\">\n",
       "  <thead>\n",
       "    <tr style=\"text-align: right;\">\n",
       "      <th></th>\n",
       "      <th>LGR_Coefficient</th>\n",
       "      <th>Odds Ratio</th>\n",
       "      <th>p_value</th>\n",
       "    </tr>\n",
       "  </thead>\n",
       "  <tbody>\n",
       "    <tr>\n",
       "      <th>org_387</th>\n",
       "      <td>1.601730</td>\n",
       "      <td>4.961611</td>\n",
       "      <td>0.000039</td>\n",
       "    </tr>\n",
       "    <tr>\n",
       "      <th>org_235</th>\n",
       "      <td>1.159891</td>\n",
       "      <td>3.189587</td>\n",
       "      <td>0.005152</td>\n",
       "    </tr>\n",
       "    <tr>\n",
       "      <th>org_289</th>\n",
       "      <td>1.006444</td>\n",
       "      <td>2.735855</td>\n",
       "      <td>0.025303</td>\n",
       "    </tr>\n",
       "    <tr>\n",
       "      <th>org_273</th>\n",
       "      <td>0.964523</td>\n",
       "      <td>2.623535</td>\n",
       "      <td>0.025303</td>\n",
       "    </tr>\n",
       "    <tr>\n",
       "      <th>google_auth</th>\n",
       "      <td>-0.464486</td>\n",
       "      <td>0.628458</td>\n",
       "      <td>0.011021</td>\n",
       "    </tr>\n",
       "    <tr>\n",
       "      <th>signup</th>\n",
       "      <td>-0.419632</td>\n",
       "      <td>0.657289</td>\n",
       "      <td>0.019824</td>\n",
       "    </tr>\n",
       "    <tr>\n",
       "      <th>org_invite</th>\n",
       "      <td>-0.298317</td>\n",
       "      <td>0.742066</td>\n",
       "      <td>0.429774</td>\n",
       "    </tr>\n",
       "    <tr>\n",
       "      <th>personal_proj</th>\n",
       "      <td>-0.059496</td>\n",
       "      <td>0.942240</td>\n",
       "      <td>0.039424</td>\n",
       "    </tr>\n",
       "    <tr>\n",
       "      <th>guest_invite</th>\n",
       "      <td>0.038560</td>\n",
       "      <td>1.039313</td>\n",
       "      <td>0.000005</td>\n",
       "    </tr>\n",
       "    <tr>\n",
       "      <th>enabled_for_marketing_drip</th>\n",
       "      <td>0.034134</td>\n",
       "      <td>1.034723</td>\n",
       "      <td>0.741116</td>\n",
       "    </tr>\n",
       "    <tr>\n",
       "      <th>opted_in_to_mailing_list</th>\n",
       "      <td>-0.006041</td>\n",
       "      <td>0.993977</td>\n",
       "      <td>0.860046</td>\n",
       "    </tr>\n",
       "  </tbody>\n",
       "</table>\n",
       "</div>"
      ],
      "text/plain": [
       "                            LGR_Coefficient  Odds Ratio   p_value\n",
       "org_387                            1.601730    4.961611  0.000039\n",
       "org_235                            1.159891    3.189587  0.005152\n",
       "org_289                            1.006444    2.735855  0.025303\n",
       "org_273                            0.964523    2.623535  0.025303\n",
       "google_auth                       -0.464486    0.628458  0.011021\n",
       "signup                            -0.419632    0.657289  0.019824\n",
       "org_invite                        -0.298317    0.742066  0.429774\n",
       "personal_proj                     -0.059496    0.942240  0.039424\n",
       "guest_invite                       0.038560    1.039313  0.000005\n",
       "enabled_for_marketing_drip         0.034134    1.034723  0.741116\n",
       "opted_in_to_mailing_list          -0.006041    0.993977  0.860046"
      ]
     },
     "execution_count": 35,
     "metadata": {},
     "output_type": "execute_result"
    }
   ],
   "source": [
    "lgr_features.iloc[lgr_features['LGR_Coefficient'].abs().argsort()[::-1]]"
   ]
  },
  {
   "cell_type": "code",
   "execution_count": 36,
   "metadata": {},
   "outputs": [],
   "source": [
    "lgr_features['1_-_pvalue'] = 1 - lgr_features.p_value\n",
    "var_na = ['LGR_Coefficient',\n",
    "          '1_-_pvalue']\n",
    "\n",
    "for x in var_na:\n",
    "    lgr_features[x] = lgr_features[x].abs()\n",
    "    lgr_features[x] = (lgr_features[x] - lgr_features[x].min()) / \\\n",
    "                      (lgr_features[x].max() - lgr_features[x].min())"
   ]
  },
  {
   "cell_type": "code",
   "execution_count": 37,
   "metadata": {},
   "outputs": [
    {
     "data": {
      "text/plain": [
       "<matplotlib.axes._subplots.AxesSubplot at 0x7f4bed38b630>"
      ]
     },
     "execution_count": 37,
     "metadata": {},
     "output_type": "execute_result"
    },
    {
     "data": {
      "image/png": "[encoded data removed]",
      "text/plain": [
       "<matplotlib.figure.Figure at 0x7f4bed38bf60>"
      ]
     },
     "metadata": {},
     "output_type": "display_data"
    }
   ],
   "source": [
    "lgr_plot = lgr_features[['LGR_Coefficient', '1_-_pvalue']]\n",
    "lgr_plot.plot.bar(title='Normalized absolute coefficients, and (1 - p values) for features')"
   ]
  },
  {
   "cell_type": "code",
   "execution_count": null,
   "metadata": {},
   "outputs": [],
   "source": []
  },
  {
   "cell_type": "code",
   "execution_count": null,
   "metadata": {},
   "outputs": [],
   "source": []
  }
 ],
 "metadata": {
  "kernelspec": {
   "display_name": "Python 3",
   "language": "python",
   "name": "python3"
  },
  "language_info": {
   "codemirror_mode": {
    "name": "ipython",
    "version": 3
   },
   "file_extension": ".py",
   "mimetype": "text/x-python",
   "name": "python",
   "nbconvert_exporter": "python",
   "pygments_lexer": "ipython3",
   "version": "3.6.5"
  }
 },
 "nbformat": 4,
 "nbformat_minor": 2
}
