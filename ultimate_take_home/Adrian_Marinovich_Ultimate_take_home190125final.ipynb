{
 "cells": [
  {
   "cell_type": "code",
   "execution_count": 1,
   "metadata": {},
   "outputs": [],
   "source": [
    "# Adrian Marinovich\n",
    "# Springboard - Data Science Career Track\n",
    "# Ultimate Take-home Exercise\n",
    "# January 25, 2019\n",
    "#"
   ]
  },
  {
   "cell_type": "code",
   "execution_count": 2,
   "metadata": {},
   "outputs": [],
   "source": [
    "import numpy as np\n",
    "import pandas as pd\n",
    "import json\n",
    "import sklearn.model_selection\n",
    "\n",
    "from pandas.io.json import json_normalize\n",
    "from datetime import datetime\n",
    "\n",
    "from sklearn.model_selection import train_test_split\n",
    "from sklearn.linear_model import LogisticRegression\n",
    "from sklearn.model_selection import GridSearchCV\n",
    "from sklearn.feature_selection import chi2\n",
    "from sklearn.metrics import accuracy_score\n",
    "from sklearn.ensemble import RandomForestClassifier\n",
    "from sklearn.svm import SVC \n",
    "from sklearn.svm import LinearSVC \n",
    "\n",
    "import matplotlib.pyplot as plt\n",
    "import seaborn as sns \n",
    "sns.set(rc={'figure.figsize':(10,8)})\n",
    "sns.set_style(\"whitegrid\")\n",
    "sns.set_context(\"paper\")\n",
    "%matplotlib inline\n",
    "plt.rcParams['figure.figsize'] = [10, 8]"
   ]
  },
  {
   "cell_type": "code",
   "execution_count": 3,
   "metadata": {},
   "outputs": [],
   "source": [
    "pd.set_option('display.max_row', 1000)\n",
    "pd.set_option('display.max_columns', 100)"
   ]
  },
  {
   "cell_type": "markdown",
   "metadata": {},
   "source": [
    "## Part 1. Exploratory data analysis"
   ]
  },
  {
   "cell_type": "markdown",
   "metadata": {},
   "source": [
    "The attached logins.json file contains (simulated) timestamps of user logins in a particular\n",
    "geographic location. Aggregate these login counts based on 15­minute time intervals, and\n",
    "visualize and describe the resulting time series of login counts in ways that best characterize the\n",
    "underlying patterns of the demand. Please report/illustrate important features of the demand,\n",
    "such as daily cycles. If there are data quality issues, please report them.\n"
   ]
  },
  {
   "cell_type": "code",
   "execution_count": 4,
   "metadata": {},
   "outputs": [],
   "source": [
    "# Read the josn in to a pandas dataframe\n",
    "logins_df = pd.read_json('sb_data/logins.json')"
   ]
  },
  {
   "cell_type": "code",
   "execution_count": 5,
   "metadata": {},
   "outputs": [
    {
     "data": {
      "text/plain": [
       "(93142, 1)"
      ]
     },
     "execution_count": 5,
     "metadata": {},
     "output_type": "execute_result"
    }
   ],
   "source": [
    "# View number of rows, columns\n",
    "logins_df.shape"
   ]
  },
  {
   "cell_type": "code",
   "execution_count": 6,
   "metadata": {},
   "outputs": [
    {
     "name": "stdout",
     "output_type": "stream",
     "text": [
      "<class 'pandas.core.frame.DataFrame'>\n",
      "Int64Index: 93142 entries, 0 to 93141\n",
      "Data columns (total 1 columns):\n",
      "login_time    93142 non-null datetime64[ns]\n",
      "dtypes: datetime64[ns](1)\n",
      "memory usage: 1.4 MB\n"
     ]
    }
   ],
   "source": [
    "# View data types\n",
    "logins_df.info()"
   ]
  },
  {
   "cell_type": "code",
   "execution_count": 7,
   "metadata": {},
   "outputs": [
    {
     "data": {
      "text/html": [
       "<div>\n",
       "<style scoped>\n",
       "    .dataframe tbody tr th:only-of-type {\n",
       "        vertical-align: middle;\n",
       "    }\n",
       "\n",
       "    .dataframe tbody tr th {\n",
       "        vertical-align: top;\n",
       "    }\n",
       "\n",
       "    .dataframe thead th {\n",
       "        text-align: right;\n",
       "    }\n",
       "</style>\n",
       "<table border=\"1\" class=\"dataframe\">\n",
       "  <thead>\n",
       "    <tr style=\"text-align: right;\">\n",
       "      <th></th>\n",
       "      <th>login_time</th>\n",
       "    </tr>\n",
       "  </thead>\n",
       "  <tbody>\n",
       "    <tr>\n",
       "      <th>0</th>\n",
       "      <td>1970-01-01 20:13:18</td>\n",
       "    </tr>\n",
       "    <tr>\n",
       "      <th>1</th>\n",
       "      <td>1970-01-01 20:16:10</td>\n",
       "    </tr>\n",
       "    <tr>\n",
       "      <th>2</th>\n",
       "      <td>1970-01-01 20:16:37</td>\n",
       "    </tr>\n",
       "    <tr>\n",
       "      <th>3</th>\n",
       "      <td>1970-01-01 20:16:36</td>\n",
       "    </tr>\n",
       "    <tr>\n",
       "      <th>4</th>\n",
       "      <td>1970-01-01 20:26:21</td>\n",
       "    </tr>\n",
       "  </tbody>\n",
       "</table>\n",
       "</div>"
      ],
      "text/plain": [
       "           login_time\n",
       "0 1970-01-01 20:13:18\n",
       "1 1970-01-01 20:16:10\n",
       "2 1970-01-01 20:16:37\n",
       "3 1970-01-01 20:16:36\n",
       "4 1970-01-01 20:26:21"
      ]
     },
     "execution_count": 7,
     "metadata": {},
     "output_type": "execute_result"
    }
   ],
   "source": [
    "# View top of dataframe\n",
    "logins_df.head()"
   ]
  },
  {
   "cell_type": "code",
   "execution_count": 8,
   "metadata": {},
   "outputs": [
    {
     "data": {
      "text/html": [
       "<div>\n",
       "<style scoped>\n",
       "    .dataframe tbody tr th:only-of-type {\n",
       "        vertical-align: middle;\n",
       "    }\n",
       "\n",
       "    .dataframe tbody tr th {\n",
       "        vertical-align: top;\n",
       "    }\n",
       "\n",
       "    .dataframe thead th {\n",
       "        text-align: right;\n",
       "    }\n",
       "</style>\n",
       "<table border=\"1\" class=\"dataframe\">\n",
       "  <thead>\n",
       "    <tr style=\"text-align: right;\">\n",
       "      <th></th>\n",
       "      <th>login_time</th>\n",
       "    </tr>\n",
       "  </thead>\n",
       "  <tbody>\n",
       "    <tr>\n",
       "      <th>count</th>\n",
       "      <td>93142</td>\n",
       "    </tr>\n",
       "    <tr>\n",
       "      <th>unique</th>\n",
       "      <td>92265</td>\n",
       "    </tr>\n",
       "    <tr>\n",
       "      <th>top</th>\n",
       "      <td>1970-02-12 11:16:53</td>\n",
       "    </tr>\n",
       "    <tr>\n",
       "      <th>freq</th>\n",
       "      <td>3</td>\n",
       "    </tr>\n",
       "    <tr>\n",
       "      <th>first</th>\n",
       "      <td>1970-01-01 20:12:16</td>\n",
       "    </tr>\n",
       "    <tr>\n",
       "      <th>last</th>\n",
       "      <td>1970-04-13 18:57:38</td>\n",
       "    </tr>\n",
       "  </tbody>\n",
       "</table>\n",
       "</div>"
      ],
      "text/plain": [
       "                 login_time\n",
       "count                 93142\n",
       "unique                92265\n",
       "top     1970-02-12 11:16:53\n",
       "freq                      3\n",
       "first   1970-01-01 20:12:16\n",
       "last    1970-04-13 18:57:38"
      ]
     },
     "execution_count": 8,
     "metadata": {},
     "output_type": "execute_result"
    }
   ],
   "source": [
    "# View basic stats\n",
    "logins_df.describe()"
   ]
  },
  {
   "cell_type": "code",
   "execution_count": 9,
   "metadata": {},
   "outputs": [],
   "source": [
    "# Create new dataframe that converts data type\n",
    "l_dti = pd.DatetimeIndex(logins_df['login_time'])"
   ]
  },
  {
   "cell_type": "code",
   "execution_count": 10,
   "metadata": {},
   "outputs": [
    {
     "data": {
      "text/plain": [
       "pandas.core.indexes.datetimes.DatetimeIndex"
      ]
     },
     "execution_count": 10,
     "metadata": {},
     "output_type": "execute_result"
    }
   ],
   "source": [
    "# Check data type\n",
    "type(l_dti)"
   ]
  },
  {
   "cell_type": "code",
   "execution_count": 11,
   "metadata": {},
   "outputs": [],
   "source": [
    "# Create dataframe with appropriate index\n",
    "l_df = pd.DataFrame(data=l_dti, index=l_dti)"
   ]
  },
  {
   "cell_type": "code",
   "execution_count": 12,
   "metadata": {},
   "outputs": [
    {
     "name": "stdout",
     "output_type": "stream",
     "text": [
      "<class 'pandas.core.frame.DataFrame'>\n",
      "DatetimeIndex: 93142 entries, 1970-01-01 20:13:18 to 1970-04-13 18:54:23\n",
      "Data columns (total 1 columns):\n",
      "login_time    93142 non-null datetime64[ns]\n",
      "dtypes: datetime64[ns](1)\n",
      "memory usage: 1.4 MB\n"
     ]
    }
   ],
   "source": [
    "# Check\n",
    "l_df.info()"
   ]
  },
  {
   "cell_type": "code",
   "execution_count": 13,
   "metadata": {},
   "outputs": [
    {
     "data": {
      "text/html": [
       "<div>\n",
       "<style scoped>\n",
       "    .dataframe tbody tr th:only-of-type {\n",
       "        vertical-align: middle;\n",
       "    }\n",
       "\n",
       "    .dataframe tbody tr th {\n",
       "        vertical-align: top;\n",
       "    }\n",
       "\n",
       "    .dataframe thead th {\n",
       "        text-align: right;\n",
       "    }\n",
       "</style>\n",
       "<table border=\"1\" class=\"dataframe\">\n",
       "  <thead>\n",
       "    <tr style=\"text-align: right;\">\n",
       "      <th></th>\n",
       "      <th>login_time</th>\n",
       "    </tr>\n",
       "    <tr>\n",
       "      <th>login_time</th>\n",
       "      <th></th>\n",
       "    </tr>\n",
       "  </thead>\n",
       "  <tbody>\n",
       "    <tr>\n",
       "      <th>1970-01-01 20:13:18</th>\n",
       "      <td>1970-01-01 20:13:18</td>\n",
       "    </tr>\n",
       "    <tr>\n",
       "      <th>1970-01-01 20:16:10</th>\n",
       "      <td>1970-01-01 20:16:10</td>\n",
       "    </tr>\n",
       "    <tr>\n",
       "      <th>1970-01-01 20:16:37</th>\n",
       "      <td>1970-01-01 20:16:37</td>\n",
       "    </tr>\n",
       "    <tr>\n",
       "      <th>1970-01-01 20:16:36</th>\n",
       "      <td>1970-01-01 20:16:36</td>\n",
       "    </tr>\n",
       "    <tr>\n",
       "      <th>1970-01-01 20:26:21</th>\n",
       "      <td>1970-01-01 20:26:21</td>\n",
       "    </tr>\n",
       "  </tbody>\n",
       "</table>\n",
       "</div>"
      ],
      "text/plain": [
       "                             login_time\n",
       "login_time                             \n",
       "1970-01-01 20:13:18 1970-01-01 20:13:18\n",
       "1970-01-01 20:16:10 1970-01-01 20:16:10\n",
       "1970-01-01 20:16:37 1970-01-01 20:16:37\n",
       "1970-01-01 20:16:36 1970-01-01 20:16:36\n",
       "1970-01-01 20:26:21 1970-01-01 20:26:21"
      ]
     },
     "execution_count": 13,
     "metadata": {},
     "output_type": "execute_result"
    }
   ],
   "source": [
    "# Check\n",
    "l_df.head()"
   ]
  },
  {
   "cell_type": "code",
   "execution_count": 14,
   "metadata": {},
   "outputs": [
    {
     "data": {
      "text/plain": [
       "<matplotlib.axes._subplots.AxesSubplot at 0x7fd8909853c8>"
      ]
     },
     "execution_count": 14,
     "metadata": {},
     "output_type": "execute_result"
    },
    {
     "data": {
      "image/png": "[encoded data removed]",
      "text/plain": [
       "<matplotlib.figure.Figure at 0x7fd88f918550>"
      ]
     },
     "metadata": {},
     "output_type": "display_data"
    }
   ],
   "source": [
    "# View in 15 minute intervals\n",
    "l_df.resample('15min').count().plot(title='15-minute intervals')"
   ]
  },
  {
   "cell_type": "code",
   "execution_count": 15,
   "metadata": {},
   "outputs": [
    {
     "data": {
      "text/plain": [
       "<matplotlib.axes._subplots.AxesSubplot at 0x7fd890818630>"
      ]
     },
     "execution_count": 15,
     "metadata": {},
     "output_type": "execute_result"
    },
    {
     "data": {
      "image/png": "[encoded data removed]",
      "text/plain": [
       "<matplotlib.figure.Figure at 0x7fd890826470>"
      ]
     },
     "metadata": {},
     "output_type": "display_data"
    }
   ],
   "source": [
    "# This is very busy, so try viewing in weekly intervals\n",
    "l_df.resample('W').count().plot(title='Weekly intervals')"
   ]
  },
  {
   "cell_type": "code",
   "execution_count": 16,
   "metadata": {},
   "outputs": [
    {
     "data": {
      "text/plain": [
       "<matplotlib.axes._subplots.AxesSubplot at 0x7fd88f972438>"
      ]
     },
     "execution_count": 16,
     "metadata": {},
     "output_type": "execute_result"
    },
    {
     "data": {
      "image/png": "[encoded data removed]",
      "text/plain": [
       "<matplotlib.figure.Figure at 0x7fd89073b8d0>"
      ]
     },
     "metadata": {},
     "output_type": "display_data"
    }
   ],
   "source": [
    "# Try viewing the 15-minute intervals with rolling average\n",
    "\n",
    "# adapted from:\n",
    "#  https://jakevdp.github.io/PythonDataScienceHandbook/03.11-working-with-time-series.html\n",
    "\n",
    "m15 = l_df.resample('15min').count()\n",
    "m15.rolling(672, center=True,\n",
    "            win_type='gaussian').sum(std=10).plot(style=['-'], \n",
    "            title='15-minute intervals, 7-day rolling average')"
   ]
  },
  {
   "cell_type": "markdown",
   "metadata": {},
   "source": [
    "### From the above plots, there appear to be overall increased login frequencies as time goes by from January through April. Since we don't have multiple years to look at, we should not forget this could simply be a seasonal effect that we can't appreciate with this <1 year interval of data.  \n",
    "\n",
    "### There also appears to be some periodicity within each month, roughly weekly. So we will take a look at the data grouped into days of the week:"
   ]
  },
  {
   "cell_type": "code",
   "execution_count": 17,
   "metadata": {},
   "outputs": [
    {
     "data": {
      "text/plain": [
       "<matplotlib.axes._subplots.AxesSubplot at 0x7fd8c81ff1d0>"
      ]
     },
     "execution_count": 17,
     "metadata": {},
     "output_type": "execute_result"
    },
    {
     "data": {
      "image/png": "[encoded data removed]",
      "text/plain": [
       "<matplotlib.figure.Figure at 0x7fd88d26c400>"
      ]
     },
     "metadata": {},
     "output_type": "display_data"
    }
   ],
   "source": [
    "by_weekday = m15.groupby(m15.index.dayofweek).mean()\n",
    "by_weekday.index = ['Mon', 'Tues', 'Wed', 'Thurs', 'Fri', 'Sat', 'Sun']\n",
    "by_weekday.plot(xticks=m15.index.dayofweek, style=['-'],\n",
    "                title='Logins by day of the week')"
   ]
  },
  {
   "cell_type": "markdown",
   "metadata": {},
   "source": [
    "### This does appear to show a clear increase in logins from Monday to Friday, and then a jump to even higher login frequencies during the weekend, with a peak on Saturdays.\n",
    "\n",
    "### This behooves looking at the daily cycle of logins:"
   ]
  },
  {
   "cell_type": "code",
   "execution_count": 18,
   "metadata": {},
   "outputs": [
    {
     "data": {
      "text/plain": [
       "<matplotlib.axes._subplots.AxesSubplot at 0x7fd88d1709b0>"
      ]
     },
     "execution_count": 18,
     "metadata": {},
     "output_type": "execute_result"
    },
    {
     "data": {
      "image/png": "[encoded data removed]",
      "text/plain": [
       "<matplotlib.figure.Figure at 0x7fd882e32208>"
      ]
     },
     "metadata": {},
     "output_type": "display_data"
    }
   ],
   "source": [
    "by_time = m15.groupby(m15.index.time).mean()\n",
    "hourly_ticks = 4 * 60 * 60 * np.arange(6)\n",
    "by_time.plot(xticks=hourly_ticks, style=['-'],\n",
    "             title='Logins by time of day')"
   ]
  },
  {
   "cell_type": "markdown",
   "metadata": {},
   "source": [
    "### Overal we see an essentially bimodal daily login cycle, with midday and night-time login peaks. The prominent weekend activity we say previously, however, makes us want to look at the daily cycle broken down by weekdays and weekends:"
   ]
  },
  {
   "cell_type": "code",
   "execution_count": 19,
   "metadata": {},
   "outputs": [],
   "source": [
    "weekend = np.where(m15.index.weekday < 5, 'Weekday', 'Weekend')\n",
    "by_time = m15.groupby([weekend, m15.index.time]).mean()"
   ]
  },
  {
   "cell_type": "code",
   "execution_count": 20,
   "metadata": {},
   "outputs": [
    {
     "data": {
      "image/png": "[encoded data removed]",
      "text/plain": [
       "<matplotlib.figure.Figure at 0x7fd883595ef0>"
      ]
     },
     "metadata": {},
     "output_type": "display_data"
    }
   ],
   "source": [
    "fig, ax = plt.subplots(1, 2, figsize=(14, 5))\n",
    "by_time.loc['Weekday'].plot(ax=ax[0], title='Weekdays',\n",
    "                           xticks=hourly_ticks, style=['-'])\n",
    "by_time.loc['Weekend'].plot(ax=ax[1], title='Weekends',\n",
    "                           xticks=hourly_ticks, style=['-']);"
   ]
  },
  {
   "cell_type": "markdown",
   "metadata": {},
   "source": [
    "### Now we see that the bimodal daily peaks were largely driven by the weekday activity. On the weekends, there's a large late-night peak, and moderate afternoon activity."
   ]
  },
  {
   "cell_type": "code",
   "execution_count": null,
   "metadata": {},
   "outputs": [],
   "source": []
  },
  {
   "cell_type": "markdown",
   "metadata": {},
   "source": [
    "## Part 2.  Experiment and metrics design"
   ]
  },
  {
   "cell_type": "markdown",
   "metadata": {},
   "source": [
    "The neighboring cities of Gotham and Metropolis have complementary circadian rhythms: on\n",
    "weekdays, Ultimate Gotham is most active at night, and Ultimate Metropolis is most active\n",
    "during the day. On weekends, there is reasonable activity in both cities.\n",
    "However, a toll bridge, with a two-way toll, between the two cities causes driver partners to tend\n",
    "to be exclusive to each city. The Ultimate managers of city operations for the two cities have\n",
    "proposed an experiment to encourage driver partners to be available in both cities, by\n",
    "reimbursing all toll costs."
   ]
  },
  {
   "cell_type": "markdown",
   "metadata": {},
   "source": [
    "\n",
    "_(1) What would you choose as the key measure of success of this experiment in\n",
    "encouraging driver partners to serve both cities, and why would you choose this metric?_"
   ]
  },
  {
   "cell_type": "markdown",
   "metadata": {},
   "source": [
    "### Answer:\n",
    "The primary metric calculates the difference between experimental and control groups in net revenue over the study interval. In other words:\n",
    "\n",
    "    (Fa - Ca) - Fb\n",
    "\n",
    "    Where:\n",
    " \n",
    "        Fa = experimental group fare revenue during interval\n",
    "        \n",
    "        Ca = cost of toll reimbursement to experimental group during interval\n",
    "\n",
    "        Fb = control group fare revenue during interval\n",
    "    \n",
    "This metric is chosen to ensure that the cost of the toll reimbursement program is factored into the measure of revenue difference, and also to express the metric in a way consistent with the experimental design and statistical significance testing described below. \n",
    "\n",
    "Note that total fares for each driver are calculated during the interval, and not just cross-bridge fares. This is because the overall net revenue difference is most important in measuring the success of the program. For instance, it is possible that there is extra time spent on cross-bridge fares that could have been used collecting additional fares without crossing the bridge. Such effects should be captured in the metric. Since differences in cross-bridge fares may nonetheless be worth noting during the study, a secondary, incidental metric may also be chosen that calculates the difference in cross-bridge fares between experimental and control groups."
   ]
  },
  {
   "cell_type": "markdown",
   "metadata": {},
   "source": [
    "\n",
    "\n",
    "_(2) Describe a practical experiment you would design to compare the effectiveness of the\n",
    "proposed change in relation to the key measure of success. Please provide details on:_"
   ]
  },
  {
   "cell_type": "markdown",
   "metadata": {},
   "source": [
    "_(2a) How you will implement the experiment._"
   ]
  },
  {
   "cell_type": "markdown",
   "metadata": {},
   "source": [
    "### Answer:\n",
    "A/B testing is proposed, whereby the drivers are randomized into two groups: experimental and control groups. The experimental group will receive the toll reimbursements for cross-bridge fares during the study interval. To minimize the perception of bias amongst those drivers not receiving reimbursements, the study randomization procedure must be clearly explained to drivers prior to the study start. \n",
    "\n",
    "If the financial resources are available, the groups would be balanced to maximize statistical power. More limited resources would mean reducing the size of the experimental group as compared to the control group."
   ]
  },
  {
   "cell_type": "markdown",
   "metadata": {},
   "source": [
    "_(2b) What statistical test(s) you will conduct to verify the significance of the\n",
    "observation._"
   ]
  },
  {
   "cell_type": "markdown",
   "metadata": {},
   "source": [
    "### Answer:\n",
    "The unpaired two-sample t-test will be used to determine the statistical significance of the difference in net fare revenue."
   ]
  },
  {
   "cell_type": "markdown",
   "metadata": {},
   "source": [
    "_(2c) How you would interpret the results and provide recommendations to the city\n",
    "operations team along with any caveats._"
   ]
  },
  {
   "cell_type": "markdown",
   "metadata": {},
   "source": [
    "### Answer:\n",
    "The primary metric showing the difference in net revenue between groups, the p value calculated from the above-referenced t-test, and the associated 95% confidence interval, would be provided to the operations team. Interpretation would be concerned with whether a significant (p<0.05) gain or loss in net revenue resulted from the toll reimbursement during the study period, and what was the magnitude of that difference. A recommendation to implement toll reimbursement would require both a significant gain in net revenue shown in the study, as well as a magnitude of gain that clearly makes such a program robust against future foreseable variations in its effects and costs of administration.\n",
    "\n",
    "One caveat would be whether the study was adequately powered to detect a significant difference in net revenue. Without more information on what the current cross-bridge fares are, the toll costs, and some estimate of the expected effect size of toll reimbursement, it is not possible at this time to make a statistical power calculation.\n",
    "\n",
    "Another caveat is that the experiment cannot be randomized, due to the nature of the intervention (drivers will know whether or not they are being reimbursed). Thus there are possible spillover effects on non-reimbursed control drivers that may diminish or enhance the effect of the intervention, that would not otherwise occur in the event of a full implementation of such an intervention to all drivers."
   ]
  },
  {
   "cell_type": "code",
   "execution_count": null,
   "metadata": {},
   "outputs": [],
   "source": []
  },
  {
   "cell_type": "markdown",
   "metadata": {},
   "source": [
    "## Part 3. Predictive modeling"
   ]
  },
  {
   "cell_type": "markdown",
   "metadata": {},
   "source": [
    "Ultimate is interested in predicting rider retention. To help explore this question, we have\n",
    "provided a sample dataset of a cohort of users who signed up for an Ultimate account in\n",
    "January 2014. The data was pulled several months later; we consider a user retained if they\n",
    "were “active” (i.e. took a trip) in the preceding 30 days.\n",
    "We would like you to use this data set to help understand what factors are the best predictors\n",
    "for retention, and offer suggestions to operationalize those insights to help Ultimate.\n",
    "The data is in the attached file ultimate_data_challenge.json. See below for a detailed\n",
    "description of the dataset. Please include any code you wrote for the analysis and delete the\n",
    "dataset when you have finished with the challenge."
   ]
  },
  {
   "cell_type": "markdown",
   "metadata": {},
   "source": [
    "_(1) Perform any cleaning, exploratory analysis, and/or visualizations to use the provided\n",
    "data for this analysis (a few sentences/plots describing your approach will suffice). What\n",
    "fraction of the observed users were retained?_"
   ]
  },
  {
   "cell_type": "code",
   "execution_count": 21,
   "metadata": {},
   "outputs": [],
   "source": [
    "# Read the josn in to a pandas dataframe\n",
    "with open('sb_data/ultimate_data_challenge.json') as f:\n",
    "   retain = json.load(f)\n",
    "\n",
    "retain_df = pd.DataFrame(retain)"
   ]
  },
  {
   "cell_type": "code",
   "execution_count": 22,
   "metadata": {},
   "outputs": [
    {
     "data": {
      "text/plain": [
       "(50000, 12)"
      ]
     },
     "execution_count": 22,
     "metadata": {},
     "output_type": "execute_result"
    }
   ],
   "source": [
    "# View basics of dataframe\n",
    "retain_df.shape"
   ]
  },
  {
   "cell_type": "code",
   "execution_count": 23,
   "metadata": {},
   "outputs": [
    {
     "name": "stdout",
     "output_type": "stream",
     "text": [
      "<class 'pandas.core.frame.DataFrame'>\n",
      "RangeIndex: 50000 entries, 0 to 49999\n",
      "Data columns (total 12 columns):\n",
      "avg_dist                  50000 non-null float64\n",
      "avg_rating_by_driver      49799 non-null float64\n",
      "avg_rating_of_driver      41878 non-null float64\n",
      "avg_surge                 50000 non-null float64\n",
      "city                      50000 non-null object\n",
      "last_trip_date            50000 non-null object\n",
      "phone                     49604 non-null object\n",
      "signup_date               50000 non-null object\n",
      "surge_pct                 50000 non-null float64\n",
      "trips_in_first_30_days    50000 non-null int64\n",
      "ultimate_black_user       50000 non-null bool\n",
      "weekday_pct               50000 non-null float64\n",
      "dtypes: bool(1), float64(6), int64(1), object(4)\n",
      "memory usage: 4.2+ MB\n"
     ]
    }
   ],
   "source": [
    "retain_df.info()"
   ]
  },
  {
   "cell_type": "code",
   "execution_count": 24,
   "metadata": {},
   "outputs": [
    {
     "data": {
      "text/html": [
       "<div>\n",
       "<style scoped>\n",
       "    .dataframe tbody tr th:only-of-type {\n",
       "        vertical-align: middle;\n",
       "    }\n",
       "\n",
       "    .dataframe tbody tr th {\n",
       "        vertical-align: top;\n",
       "    }\n",
       "\n",
       "    .dataframe thead th {\n",
       "        text-align: right;\n",
       "    }\n",
       "</style>\n",
       "<table border=\"1\" class=\"dataframe\">\n",
       "  <thead>\n",
       "    <tr style=\"text-align: right;\">\n",
       "      <th></th>\n",
       "      <th>avg_dist</th>\n",
       "      <th>avg_rating_by_driver</th>\n",
       "      <th>avg_rating_of_driver</th>\n",
       "      <th>avg_surge</th>\n",
       "      <th>city</th>\n",
       "      <th>last_trip_date</th>\n",
       "      <th>phone</th>\n",
       "      <th>signup_date</th>\n",
       "      <th>surge_pct</th>\n",
       "      <th>trips_in_first_30_days</th>\n",
       "      <th>ultimate_black_user</th>\n",
       "      <th>weekday_pct</th>\n",
       "    </tr>\n",
       "  </thead>\n",
       "  <tbody>\n",
       "    <tr>\n",
       "      <th>0</th>\n",
       "      <td>3.67</td>\n",
       "      <td>5.0</td>\n",
       "      <td>4.7</td>\n",
       "      <td>1.10</td>\n",
       "      <td>King's Landing</td>\n",
       "      <td>2014-06-17</td>\n",
       "      <td>iPhone</td>\n",
       "      <td>2014-01-25</td>\n",
       "      <td>15.4</td>\n",
       "      <td>4</td>\n",
       "      <td>True</td>\n",
       "      <td>46.2</td>\n",
       "    </tr>\n",
       "    <tr>\n",
       "      <th>1</th>\n",
       "      <td>8.26</td>\n",
       "      <td>5.0</td>\n",
       "      <td>5.0</td>\n",
       "      <td>1.00</td>\n",
       "      <td>Astapor</td>\n",
       "      <td>2014-05-05</td>\n",
       "      <td>Android</td>\n",
       "      <td>2014-01-29</td>\n",
       "      <td>0.0</td>\n",
       "      <td>0</td>\n",
       "      <td>False</td>\n",
       "      <td>50.0</td>\n",
       "    </tr>\n",
       "    <tr>\n",
       "      <th>2</th>\n",
       "      <td>0.77</td>\n",
       "      <td>5.0</td>\n",
       "      <td>4.3</td>\n",
       "      <td>1.00</td>\n",
       "      <td>Astapor</td>\n",
       "      <td>2014-01-07</td>\n",
       "      <td>iPhone</td>\n",
       "      <td>2014-01-06</td>\n",
       "      <td>0.0</td>\n",
       "      <td>3</td>\n",
       "      <td>False</td>\n",
       "      <td>100.0</td>\n",
       "    </tr>\n",
       "    <tr>\n",
       "      <th>3</th>\n",
       "      <td>2.36</td>\n",
       "      <td>4.9</td>\n",
       "      <td>4.6</td>\n",
       "      <td>1.14</td>\n",
       "      <td>King's Landing</td>\n",
       "      <td>2014-06-29</td>\n",
       "      <td>iPhone</td>\n",
       "      <td>2014-01-10</td>\n",
       "      <td>20.0</td>\n",
       "      <td>9</td>\n",
       "      <td>True</td>\n",
       "      <td>80.0</td>\n",
       "    </tr>\n",
       "    <tr>\n",
       "      <th>4</th>\n",
       "      <td>3.13</td>\n",
       "      <td>4.9</td>\n",
       "      <td>4.4</td>\n",
       "      <td>1.19</td>\n",
       "      <td>Winterfell</td>\n",
       "      <td>2014-03-15</td>\n",
       "      <td>Android</td>\n",
       "      <td>2014-01-27</td>\n",
       "      <td>11.8</td>\n",
       "      <td>14</td>\n",
       "      <td>False</td>\n",
       "      <td>82.4</td>\n",
       "    </tr>\n",
       "  </tbody>\n",
       "</table>\n",
       "</div>"
      ],
      "text/plain": [
       "   avg_dist  avg_rating_by_driver  avg_rating_of_driver  avg_surge  \\\n",
       "0      3.67                   5.0                   4.7       1.10   \n",
       "1      8.26                   5.0                   5.0       1.00   \n",
       "2      0.77                   5.0                   4.3       1.00   \n",
       "3      2.36                   4.9                   4.6       1.14   \n",
       "4      3.13                   4.9                   4.4       1.19   \n",
       "\n",
       "             city last_trip_date    phone signup_date  surge_pct  \\\n",
       "0  King's Landing     2014-06-17   iPhone  2014-01-25       15.4   \n",
       "1         Astapor     2014-05-05  Android  2014-01-29        0.0   \n",
       "2         Astapor     2014-01-07   iPhone  2014-01-06        0.0   \n",
       "3  King's Landing     2014-06-29   iPhone  2014-01-10       20.0   \n",
       "4      Winterfell     2014-03-15  Android  2014-01-27       11.8   \n",
       "\n",
       "   trips_in_first_30_days  ultimate_black_user  weekday_pct  \n",
       "0                       4                 True         46.2  \n",
       "1                       0                False         50.0  \n",
       "2                       3                False        100.0  \n",
       "3                       9                 True         80.0  \n",
       "4                      14                False         82.4  "
      ]
     },
     "execution_count": 24,
     "metadata": {},
     "output_type": "execute_result"
    }
   ],
   "source": [
    "retain_df.head()"
   ]
  },
  {
   "cell_type": "code",
   "execution_count": 25,
   "metadata": {},
   "outputs": [
    {
     "data": {
      "text/html": [
       "<div>\n",
       "<style scoped>\n",
       "    .dataframe tbody tr th:only-of-type {\n",
       "        vertical-align: middle;\n",
       "    }\n",
       "\n",
       "    .dataframe tbody tr th {\n",
       "        vertical-align: top;\n",
       "    }\n",
       "\n",
       "    .dataframe thead th {\n",
       "        text-align: right;\n",
       "    }\n",
       "</style>\n",
       "<table border=\"1\" class=\"dataframe\">\n",
       "  <thead>\n",
       "    <tr style=\"text-align: right;\">\n",
       "      <th></th>\n",
       "      <th>avg_dist</th>\n",
       "      <th>avg_rating_by_driver</th>\n",
       "      <th>avg_rating_of_driver</th>\n",
       "      <th>avg_surge</th>\n",
       "      <th>surge_pct</th>\n",
       "      <th>trips_in_first_30_days</th>\n",
       "      <th>weekday_pct</th>\n",
       "    </tr>\n",
       "  </thead>\n",
       "  <tbody>\n",
       "    <tr>\n",
       "      <th>count</th>\n",
       "      <td>50000.000000</td>\n",
       "      <td>49799.000000</td>\n",
       "      <td>41878.000000</td>\n",
       "      <td>50000.000000</td>\n",
       "      <td>50000.000000</td>\n",
       "      <td>50000.000000</td>\n",
       "      <td>50000.000000</td>\n",
       "    </tr>\n",
       "    <tr>\n",
       "      <th>mean</th>\n",
       "      <td>5.796827</td>\n",
       "      <td>4.778158</td>\n",
       "      <td>4.601559</td>\n",
       "      <td>1.074764</td>\n",
       "      <td>8.849536</td>\n",
       "      <td>2.278200</td>\n",
       "      <td>60.926084</td>\n",
       "    </tr>\n",
       "    <tr>\n",
       "      <th>std</th>\n",
       "      <td>5.707357</td>\n",
       "      <td>0.446652</td>\n",
       "      <td>0.617338</td>\n",
       "      <td>0.222336</td>\n",
       "      <td>19.958811</td>\n",
       "      <td>3.792684</td>\n",
       "      <td>37.081503</td>\n",
       "    </tr>\n",
       "    <tr>\n",
       "      <th>min</th>\n",
       "      <td>0.000000</td>\n",
       "      <td>1.000000</td>\n",
       "      <td>1.000000</td>\n",
       "      <td>1.000000</td>\n",
       "      <td>0.000000</td>\n",
       "      <td>0.000000</td>\n",
       "      <td>0.000000</td>\n",
       "    </tr>\n",
       "    <tr>\n",
       "      <th>25%</th>\n",
       "      <td>2.420000</td>\n",
       "      <td>4.700000</td>\n",
       "      <td>4.300000</td>\n",
       "      <td>1.000000</td>\n",
       "      <td>0.000000</td>\n",
       "      <td>0.000000</td>\n",
       "      <td>33.300000</td>\n",
       "    </tr>\n",
       "    <tr>\n",
       "      <th>50%</th>\n",
       "      <td>3.880000</td>\n",
       "      <td>5.000000</td>\n",
       "      <td>4.900000</td>\n",
       "      <td>1.000000</td>\n",
       "      <td>0.000000</td>\n",
       "      <td>1.000000</td>\n",
       "      <td>66.700000</td>\n",
       "    </tr>\n",
       "    <tr>\n",
       "      <th>75%</th>\n",
       "      <td>6.940000</td>\n",
       "      <td>5.000000</td>\n",
       "      <td>5.000000</td>\n",
       "      <td>1.050000</td>\n",
       "      <td>8.600000</td>\n",
       "      <td>3.000000</td>\n",
       "      <td>100.000000</td>\n",
       "    </tr>\n",
       "    <tr>\n",
       "      <th>max</th>\n",
       "      <td>160.960000</td>\n",
       "      <td>5.000000</td>\n",
       "      <td>5.000000</td>\n",
       "      <td>8.000000</td>\n",
       "      <td>100.000000</td>\n",
       "      <td>125.000000</td>\n",
       "      <td>100.000000</td>\n",
       "    </tr>\n",
       "  </tbody>\n",
       "</table>\n",
       "</div>"
      ],
      "text/plain": [
       "           avg_dist  avg_rating_by_driver  avg_rating_of_driver     avg_surge  \\\n",
       "count  50000.000000          49799.000000          41878.000000  50000.000000   \n",
       "mean       5.796827              4.778158              4.601559      1.074764   \n",
       "std        5.707357              0.446652              0.617338      0.222336   \n",
       "min        0.000000              1.000000              1.000000      1.000000   \n",
       "25%        2.420000              4.700000              4.300000      1.000000   \n",
       "50%        3.880000              5.000000              4.900000      1.000000   \n",
       "75%        6.940000              5.000000              5.000000      1.050000   \n",
       "max      160.960000              5.000000              5.000000      8.000000   \n",
       "\n",
       "          surge_pct  trips_in_first_30_days   weekday_pct  \n",
       "count  50000.000000            50000.000000  50000.000000  \n",
       "mean       8.849536                2.278200     60.926084  \n",
       "std       19.958811                3.792684     37.081503  \n",
       "min        0.000000                0.000000      0.000000  \n",
       "25%        0.000000                0.000000     33.300000  \n",
       "50%        0.000000                1.000000     66.700000  \n",
       "75%        8.600000                3.000000    100.000000  \n",
       "max      100.000000              125.000000    100.000000  "
      ]
     },
     "execution_count": 25,
     "metadata": {},
     "output_type": "execute_result"
    }
   ],
   "source": [
    "retain_df.describe()"
   ]
  },
  {
   "cell_type": "code",
   "execution_count": 26,
   "metadata": {},
   "outputs": [
    {
     "name": "stdout",
     "output_type": "stream",
     "text": [
      "Proportion of riders by city:\n",
      " Winterfell        0.46672\n",
      "Astapor           0.33068\n",
      "King's Landing    0.20260\n",
      "Name: city, dtype: float64\n"
     ]
    }
   ],
   "source": [
    "print('Proportion of riders by city:\\n',\n",
    "      retain_df['city'].value_counts() / retain_df.shape[0])"
   ]
  },
  {
   "cell_type": "code",
   "execution_count": 27,
   "metadata": {},
   "outputs": [
    {
     "name": "stdout",
     "output_type": "stream",
     "text": [
      "Proportion of riders by phone type:\n",
      " iPhone     0.69164\n",
      "Android    0.30044\n",
      "Name: phone, dtype: float64\n"
     ]
    }
   ],
   "source": [
    "print('Proportion of riders by phone type:\\n',\n",
    "      retain_df['phone'].value_counts() / retain_df.shape[0])"
   ]
  },
  {
   "cell_type": "code",
   "execution_count": 28,
   "metadata": {},
   "outputs": [],
   "source": [
    "# Create new dummy variable to code categorical variables \n",
    "retain_df['iphone'] = retain_df['phone']=='iPhone'\n",
    "\n",
    "retain_df['astapor'] = retain_df['city']=='Astapor'\n",
    "retain_df['kings_landing'] = retain_df['city']=='King\\'s Landing'\n",
    "retain_df['winterfell'] = retain_df['city']=='Winterfell'"
   ]
  },
  {
   "cell_type": "code",
   "execution_count": 29,
   "metadata": {},
   "outputs": [],
   "source": [
    "# Create new variable to code for retention (i.e., trip in last month)\n",
    "#  then convert to integer from boolean\n",
    "retain_df['retained'] = retain_df['last_trip_date'].str.find('06', 5, 7) > 0\n",
    "retain_df.retained = retain_df.retained.astype(int)"
   ]
  },
  {
   "cell_type": "code",
   "execution_count": 30,
   "metadata": {},
   "outputs": [
    {
     "name": "stdout",
     "output_type": "stream",
     "text": [
      "The proportion of riders retained (i.e., making trip in last month): 0.36512\n"
     ]
    }
   ],
   "source": [
    "print('The proportion of riders retained (i.e., making trip in last month):', \n",
    "       retain_df['retained'][retain_df['retained']==True].count() / retain_df.shape[0])"
   ]
  },
  {
   "cell_type": "code",
   "execution_count": 31,
   "metadata": {},
   "outputs": [],
   "source": [
    "# Normalize select variabeles using min-max scaling \n",
    "#  so variables' values are between 0 and 1\n",
    "\n",
    "var_n = ['avg_dist', \n",
    "         'avg_rating_by_driver',\n",
    "         'avg_rating_of_driver',\n",
    "         'avg_surge',\n",
    "         'trips_in_first_30_days',\n",
    "         'weekday_pct']\n",
    "\n",
    "for x in var_n:\n",
    "    retain_df[x] = (retain_df[x] - retain_df[x].min()) / \\\n",
    "                   (retain_df[x].max() - retain_df[x].min())"
   ]
  },
  {
   "cell_type": "code",
   "execution_count": 32,
   "metadata": {},
   "outputs": [
    {
     "data": {
      "image/png": "[encoded data removed]",
      "text/plain": [
       "<matplotlib.figure.Figure at 0x7fd8884e5ba8>"
      ]
     },
     "metadata": {},
     "output_type": "display_data"
    }
   ],
   "source": [
    "# Create heatmapped correlation matrix of variables\n",
    "corr = retain_df.corr()\n",
    "fig, ax = plt.subplots(figsize=(12, 10))\n",
    "colormap = sns.diverging_palette(220, 10, as_cmap=True)\n",
    "sns.heatmap(corr, cmap=colormap, annot=True, fmt=\".2f\")\n",
    "plt.show()"
   ]
  },
  {
   "cell_type": "markdown",
   "metadata": {},
   "source": [
    "### Answer:\n",
    "About 37% of riders were retained (i.e., made a trip in the last month). Examination of the heatmapped correlation matrix above shows that retention has the greatest positive correlations with residence in King's Landing, use of an iPhone (vs. Android phone), being an Ultimate Black rider, and number of trips in the first 30 days. \n",
    "\n",
    "Retention is most negatively correlated with residence in Astapor, and shows a smaller negative correlation with average trip distance in the first 30 days. Notably, number of trips in the first 30 days was negatively correlated with trip distance.\n",
    "\n",
    "There is a negative correlation between weekday percentage and surge percent and average surge multiplier, perhaps reflecting the different daily use cycles seen between weekdays and weekends above.\n",
    "\n",
    "Not surprisingly, there is a high correlation between the surge percent (percent of trips taken with surge multiplier > 1) and average surge multiplier over all trips. Given they both are representative of the same underlying feature, only one of these variables should be used in the multivariate analysis below."
   ]
  },
  {
   "cell_type": "markdown",
   "metadata": {},
   "source": [
    "_(2) Build a predictive model to help Ultimate determine whether or not a user will be active\n",
    "in their 6th month on the system. Discuss why you chose your approach, what\n",
    "alternatives you considered, and any concerns you have. How valid is your model?\n",
    "Include any key indicators of model performance._"
   ]
  },
  {
   "cell_type": "code",
   "execution_count": 33,
   "metadata": {},
   "outputs": [],
   "source": [
    "# Create a predictive analysis dataset using\n",
    "#  select feature variables and 'retained', \n",
    "#  and drop rows with missing values\n",
    "\n",
    "select_vars = ['avg_dist',\n",
    "               'avg_rating_by_driver',\n",
    "               'avg_rating_of_driver',\n",
    "               'avg_surge',\n",
    "               'trips_in_first_30_days',\n",
    "               'ultimate_black_user',\n",
    "               'weekday_pct',\n",
    "               'iphone',\n",
    "               'astapor',\n",
    "               'kings_landing',\n",
    "               'winterfell']\n",
    "selects = select_vars + ['retained']\n",
    "\n",
    "r_df_nona = retain_df[selects]\n",
    "r_df_nona = r_df_nona.dropna()"
   ]
  },
  {
   "cell_type": "code",
   "execution_count": 34,
   "metadata": {},
   "outputs": [],
   "source": [
    "# Split the data into training and test sets\n",
    "Xlr, Xtestlr, ylr, ytestlr = train_test_split(r_df_nona[select_vars].values, \n",
    "                                              r_df_nona.retained.values,\n",
    "                                              test_size=0.2,\n",
    "                                              random_state=5)"
   ]
  },
  {
   "cell_type": "markdown",
   "metadata": {},
   "source": [
    "### We will use three different models: logistic regression,  linear support vector machine (SVM), random forest. These are chosen because all three allow an examination of the contribution of each feature to the prediction."
   ]
  },
  {
   "cell_type": "code",
   "execution_count": 35,
   "metadata": {},
   "outputs": [
    {
     "name": "stdout",
     "output_type": "stream",
     "text": [
      "0.6924182536830759\n"
     ]
    }
   ],
   "source": [
    "# Set up logistic regression\n",
    "\n",
    "lgr_clf = LogisticRegression()\n",
    "\n",
    "# Fit on the training data\n",
    "lgr_clf.fit(Xlr, ylr)\n",
    "\n",
    "# View accuracy on the test data\n",
    "print(accuracy_score(lgr_clf.predict(Xtestlr), ytestlr))"
   ]
  },
  {
   "cell_type": "code",
   "execution_count": 36,
   "metadata": {},
   "outputs": [
    {
     "data": {
      "text/plain": [
       "GridSearchCV(cv=5, error_score='raise',\n",
       "       estimator=LogisticRegression(C=1.0, class_weight=None, dual=False, fit_intercept=True,\n",
       "          intercept_scaling=1, max_iter=100, multi_class='ovr', n_jobs=1,\n",
       "          penalty='l2', random_state=None, solver='liblinear', tol=0.0001,\n",
       "          verbose=0, warm_start=False),\n",
       "       fit_params=None, iid=False, n_jobs=1,\n",
       "       param_grid={'C': [0.0001, 0.001, 0.01, 0.1, 1.0, 10.0, 100.0, 1000.0]},\n",
       "       pre_dispatch='2*n_jobs', refit=True, return_train_score='warn',\n",
       "       scoring=None, verbose=0)"
      ]
     },
     "execution_count": 36,
     "metadata": {},
     "output_type": "execute_result"
    }
   ],
   "source": [
    "# Optimize logistic regression parameters using grid search\n",
    "\n",
    "param_grid = {'C': [0.0001*10**exp for exp in range(0, 8)]}\n",
    "lgr = LogisticRegression()\n",
    "lgr_cv = GridSearchCV(lgr, param_grid, cv=5, iid=False)\n",
    "lgr_cv.fit(Xlr, ylr)"
   ]
  },
  {
   "cell_type": "code",
   "execution_count": 37,
   "metadata": {},
   "outputs": [
    {
     "data": {
      "text/plain": [
       "{'C': 10.0}"
      ]
     },
     "execution_count": 37,
     "metadata": {},
     "output_type": "execute_result"
    }
   ],
   "source": [
    "lgr_cv.best_params_"
   ]
  },
  {
   "cell_type": "code",
   "execution_count": 38,
   "metadata": {},
   "outputs": [
    {
     "data": {
      "text/plain": [
       "0.7011529470107462"
      ]
     },
     "execution_count": 38,
     "metadata": {},
     "output_type": "execute_result"
    }
   ],
   "source": [
    "lgr_cv.best_score_"
   ]
  },
  {
   "cell_type": "code",
   "execution_count": 39,
   "metadata": {},
   "outputs": [
    {
     "data": {
      "text/plain": [
       "0.6948137501497186"
      ]
     },
     "execution_count": 39,
     "metadata": {},
     "output_type": "execute_result"
    }
   ],
   "source": [
    "# View accuracy on the test data using optimal parameter\n",
    "clf001 = LogisticRegression(C=lgr_cv.best_params_['C'])\n",
    "clf001.fit(Xlr, ylr)\n",
    "accuracy_score(clf001.predict(Xtestlr), ytestlr)"
   ]
  },
  {
   "cell_type": "markdown",
   "metadata": {},
   "source": [
    "### Since no significant improvement is found with grid search, we will use the original logistic regression model."
   ]
  },
  {
   "cell_type": "code",
   "execution_count": 40,
   "metadata": {},
   "outputs": [
    {
     "data": {
      "text/plain": [
       "array([6.80251240e-003, 4.83048904e-001, 6.84996019e-001, 9.88466102e-001,\n",
       "       5.50325742e-014, 9.08502635e-206, 8.83783599e-001, 2.38449336e-109,\n",
       "       1.36739099e-150, 0.00000000e+000, 1.98965854e-007])"
      ]
     },
     "execution_count": 40,
     "metadata": {},
     "output_type": "execute_result"
    }
   ],
   "source": [
    "# We want to see p values, so we'll get these from chi2\n",
    "\n",
    "scores, pvalues = chi2(Xlr, ylr)\n",
    "pvalues"
   ]
  },
  {
   "cell_type": "code",
   "execution_count": 41,
   "metadata": {},
   "outputs": [],
   "source": [
    "# Create new dataframe showing feature names and \n",
    "#  their logistic regression coefficients and p values\n",
    "lgr_c_p = list(zip(lgr_clf.coef_[0],pvalues))\n",
    "lgr_features = pd.DataFrame(lgr_c_p,\n",
    "                                   index = select_vars,\n",
    "                                   columns=['LGR_Coefficient','p_value'])"
   ]
  },
  {
   "cell_type": "code",
   "execution_count": 42,
   "metadata": {},
   "outputs": [
    {
     "data": {
      "text/html": [
       "<div>\n",
       "<style scoped>\n",
       "    .dataframe tbody tr th:only-of-type {\n",
       "        vertical-align: middle;\n",
       "    }\n",
       "\n",
       "    .dataframe tbody tr th {\n",
       "        vertical-align: top;\n",
       "    }\n",
       "\n",
       "    .dataframe thead th {\n",
       "        text-align: right;\n",
       "    }\n",
       "</style>\n",
       "<table border=\"1\" class=\"dataframe\">\n",
       "  <thead>\n",
       "    <tr style=\"text-align: right;\">\n",
       "      <th></th>\n",
       "      <th>LGR_Coefficient</th>\n",
       "      <th>p_value</th>\n",
       "    </tr>\n",
       "  </thead>\n",
       "  <tbody>\n",
       "    <tr>\n",
       "      <th>trips_in_first_30_days</th>\n",
       "      <td>9.174945</td>\n",
       "      <td>5.503257e-14</td>\n",
       "    </tr>\n",
       "    <tr>\n",
       "      <th>avg_dist</th>\n",
       "      <td>-5.201561</td>\n",
       "      <td>6.802512e-03</td>\n",
       "    </tr>\n",
       "    <tr>\n",
       "      <th>iphone</th>\n",
       "      <td>1.041021</td>\n",
       "      <td>2.384493e-109</td>\n",
       "    </tr>\n",
       "    <tr>\n",
       "      <th>ultimate_black_user</th>\n",
       "      <td>0.897173</td>\n",
       "      <td>9.085026e-206</td>\n",
       "    </tr>\n",
       "    <tr>\n",
       "      <th>avg_rating_by_driver</th>\n",
       "      <td>-0.874023</td>\n",
       "      <td>4.830489e-01</td>\n",
       "    </tr>\n",
       "    <tr>\n",
       "      <th>astapor</th>\n",
       "      <td>-0.812539</td>\n",
       "      <td>1.367391e-150</td>\n",
       "    </tr>\n",
       "    <tr>\n",
       "      <th>kings_landing</th>\n",
       "      <td>0.811177</td>\n",
       "      <td>0.000000e+00</td>\n",
       "    </tr>\n",
       "    <tr>\n",
       "      <th>avg_surge</th>\n",
       "      <td>0.531756</td>\n",
       "      <td>9.884661e-01</td>\n",
       "    </tr>\n",
       "    <tr>\n",
       "      <th>winterfell</th>\n",
       "      <td>-0.294274</td>\n",
       "      <td>1.989659e-07</td>\n",
       "    </tr>\n",
       "    <tr>\n",
       "      <th>avg_rating_of_driver</th>\n",
       "      <td>-0.213532</td>\n",
       "      <td>6.849960e-01</td>\n",
       "    </tr>\n",
       "    <tr>\n",
       "      <th>weekday_pct</th>\n",
       "      <td>-0.078330</td>\n",
       "      <td>8.837836e-01</td>\n",
       "    </tr>\n",
       "  </tbody>\n",
       "</table>\n",
       "</div>"
      ],
      "text/plain": [
       "                        LGR_Coefficient        p_value\n",
       "trips_in_first_30_days         9.174945   5.503257e-14\n",
       "avg_dist                      -5.201561   6.802512e-03\n",
       "iphone                         1.041021  2.384493e-109\n",
       "ultimate_black_user            0.897173  9.085026e-206\n",
       "avg_rating_by_driver          -0.874023   4.830489e-01\n",
       "astapor                       -0.812539  1.367391e-150\n",
       "kings_landing                  0.811177   0.000000e+00\n",
       "avg_surge                      0.531756   9.884661e-01\n",
       "winterfell                    -0.294274   1.989659e-07\n",
       "avg_rating_of_driver          -0.213532   6.849960e-01\n",
       "weekday_pct                   -0.078330   8.837836e-01"
      ]
     },
     "execution_count": 42,
     "metadata": {},
     "output_type": "execute_result"
    }
   ],
   "source": [
    "lgr_features.iloc[lgr_features['LGR_Coefficient'].abs().argsort()[::-1]]"
   ]
  },
  {
   "cell_type": "markdown",
   "metadata": {},
   "source": [
    "### The multivariate approach in this model has shown some differences relative magnitudes of association between the features and retention, compared to the bivariate analysis shown in the correlation matrix above. Notably, trips in the first month, and average trip distance show the strongest associations, and show significant p values. \n",
    "\n",
    "### Note that average rating by driver, and average surge multiplier are not significant predictors (p=0.48, and p=0.99, respectively).\n",
    "\n",
    "### Now we'll compare to a linear SVM model: "
   ]
  },
  {
   "cell_type": "code",
   "execution_count": 43,
   "metadata": {},
   "outputs": [
    {
     "data": {
      "text/plain": [
       "LinearSVC(C=1.0, class_weight=None, dual=True, fit_intercept=True,\n",
       "     intercept_scaling=1, loss='squared_hinge', max_iter=1000,\n",
       "     multi_class='ovr', penalty='l2', random_state=None, tol=0.0001,\n",
       "     verbose=0)"
      ]
     },
     "execution_count": 43,
     "metadata": {},
     "output_type": "execute_result"
    }
   ],
   "source": [
    "# Set up linear SVM\n",
    "\n",
    "svml_clf = LinearSVC()\n",
    "\n",
    "# Fit on the training data\n",
    "svml_clf.fit(Xlr, ylr)"
   ]
  },
  {
   "cell_type": "code",
   "execution_count": 44,
   "metadata": {},
   "outputs": [
    {
     "name": "stdout",
     "output_type": "stream",
     "text": [
      "On test, SVM-Linear accuracy is: 0.6930171277997365\n"
     ]
    }
   ],
   "source": [
    "# View accuracy on the test data\n",
    "y_test_svml = svml_clf.predict(Xtestlr)\n",
    "print('On test, SVM-Linear accuracy is:', accuracy_score(ytestlr, y_test_svml))"
   ]
  },
  {
   "cell_type": "markdown",
   "metadata": {},
   "source": [
    "### This performs very much like the logistic regression model, but we should see if it weighs the features differently:"
   ]
  },
  {
   "cell_type": "code",
   "execution_count": 45,
   "metadata": {},
   "outputs": [],
   "source": [
    "svml_features = pd.DataFrame(svml_clf.coef_[0],\n",
    "                                   index = select_vars,\n",
    "                                   columns=['SVML_Weight'])"
   ]
  },
  {
   "cell_type": "code",
   "execution_count": 46,
   "metadata": {},
   "outputs": [
    {
     "data": {
      "text/html": [
       "<div>\n",
       "<style scoped>\n",
       "    .dataframe tbody tr th:only-of-type {\n",
       "        vertical-align: middle;\n",
       "    }\n",
       "\n",
       "    .dataframe tbody tr th {\n",
       "        vertical-align: top;\n",
       "    }\n",
       "\n",
       "    .dataframe thead th {\n",
       "        text-align: right;\n",
       "    }\n",
       "</style>\n",
       "<table border=\"1\" class=\"dataframe\">\n",
       "  <thead>\n",
       "    <tr style=\"text-align: right;\">\n",
       "      <th></th>\n",
       "      <th>SVML_Weight</th>\n",
       "    </tr>\n",
       "  </thead>\n",
       "  <tbody>\n",
       "    <tr>\n",
       "      <th>trips_in_first_30_days</th>\n",
       "      <td>4.191838</td>\n",
       "    </tr>\n",
       "    <tr>\n",
       "      <th>avg_dist</th>\n",
       "      <td>-2.239596</td>\n",
       "    </tr>\n",
       "    <tr>\n",
       "      <th>iphone</th>\n",
       "      <td>0.400565</td>\n",
       "    </tr>\n",
       "    <tr>\n",
       "      <th>ultimate_black_user</th>\n",
       "      <td>0.369659</td>\n",
       "    </tr>\n",
       "    <tr>\n",
       "      <th>kings_landing</th>\n",
       "      <td>0.346414</td>\n",
       "    </tr>\n",
       "    <tr>\n",
       "      <th>avg_rating_by_driver</th>\n",
       "      <td>-0.343769</td>\n",
       "    </tr>\n",
       "    <tr>\n",
       "      <th>astapor</th>\n",
       "      <td>-0.336373</td>\n",
       "    </tr>\n",
       "    <tr>\n",
       "      <th>avg_surge</th>\n",
       "      <td>0.215306</td>\n",
       "    </tr>\n",
       "    <tr>\n",
       "      <th>winterfell</th>\n",
       "      <td>-0.135711</td>\n",
       "    </tr>\n",
       "    <tr>\n",
       "      <th>avg_rating_of_driver</th>\n",
       "      <td>-0.083597</td>\n",
       "    </tr>\n",
       "    <tr>\n",
       "      <th>weekday_pct</th>\n",
       "      <td>-0.031311</td>\n",
       "    </tr>\n",
       "  </tbody>\n",
       "</table>\n",
       "</div>"
      ],
      "text/plain": [
       "                        SVML_Weight\n",
       "trips_in_first_30_days     4.191838\n",
       "avg_dist                  -2.239596\n",
       "iphone                     0.400565\n",
       "ultimate_black_user        0.369659\n",
       "kings_landing              0.346414\n",
       "avg_rating_by_driver      -0.343769\n",
       "astapor                   -0.336373\n",
       "avg_surge                  0.215306\n",
       "winterfell                -0.135711\n",
       "avg_rating_of_driver      -0.083597\n",
       "weekday_pct               -0.031311"
      ]
     },
     "execution_count": 46,
     "metadata": {},
     "output_type": "execute_result"
    }
   ],
   "source": [
    "svml_features.iloc[svml_features['SVML_Weight'].abs().argsort()[::-1]]"
   ]
  },
  {
   "cell_type": "code",
   "execution_count": 47,
   "metadata": {},
   "outputs": [
    {
     "data": {
      "text/plain": [
       "SVC(C=1.0, cache_size=200, class_weight=None, coef0=0.0,\n",
       "  decision_function_shape='ovo', degree=3, gamma='auto', kernel='rbf',\n",
       "  max_iter=-1, probability=False, random_state=None, shrinking=True,\n",
       "  tol=0.001, verbose=False)"
      ]
     },
     "execution_count": 47,
     "metadata": {},
     "output_type": "execute_result"
    }
   ],
   "source": [
    "# Set up SVM with RBF classifier, to see if\n",
    "#  there is substantial improvement in prediction\n",
    "#  accuracy\n",
    "svm_clf = SVC(decision_function_shape=\"ovo\")\n",
    "svm_clf.fit(Xlr, ylr)"
   ]
  },
  {
   "cell_type": "code",
   "execution_count": 48,
   "metadata": {},
   "outputs": [
    {
     "name": "stdout",
     "output_type": "stream",
     "text": [
      "On test, SVM-RBF accuracy is: 0.6964905976763685\n"
     ]
    }
   ],
   "source": [
    "y_test_svm = svm_clf.predict(Xtestlr)\n",
    "print('On test, SVM-RBF accuracy is:', accuracy_score(ytestlr, y_test_svm))"
   ]
  },
  {
   "cell_type": "markdown",
   "metadata": {},
   "source": [
    "### The linear kernal for SVM performs as well as the RBF kernal (on normalized features). We will continue to use the linear SVM since only that kind of SVM allows extraction of feature weights.\n",
    "\n",
    "### Finally we turn to a random forest model, to see if it allows better prediction accuracy. Note that the feature importances extracted from the random forest are always positive, so cannot give sense of positive or negative association as the logistic and SVM models did."
   ]
  },
  {
   "cell_type": "code",
   "execution_count": 49,
   "metadata": {},
   "outputs": [
    {
     "data": {
      "text/plain": [
       "RandomForestClassifier(bootstrap=True, class_weight=None, criterion='entropy',\n",
       "            max_depth=None, max_features='auto', max_leaf_nodes=None,\n",
       "            min_impurity_decrease=0.0, min_impurity_split=None,\n",
       "            min_samples_leaf=1, min_samples_split=2,\n",
       "            min_weight_fraction_leaf=0.0, n_estimators=500, n_jobs=1,\n",
       "            oob_score=False, random_state=33, verbose=0, warm_start=False)"
      ]
     },
     "execution_count": 49,
     "metadata": {},
     "output_type": "execute_result"
    }
   ],
   "source": [
    "rf_clf = RandomForestClassifier(criterion='entropy', n_estimators=500, random_state=33)\n",
    "rf_clf.fit(Xlr, ylr)"
   ]
  },
  {
   "cell_type": "code",
   "execution_count": 50,
   "metadata": {},
   "outputs": [
    {
     "name": "stdout",
     "output_type": "stream",
     "text": [
      "0.7390106599592765\n"
     ]
    }
   ],
   "source": [
    "rf_pred = rf_clf.predict(Xtestlr)\n",
    "print(accuracy_score(ytestlr, rf_pred))"
   ]
  },
  {
   "cell_type": "markdown",
   "metadata": {},
   "source": [
    "### We see some improvement in accuracy with the random forest. Here we'll extract the feature importances from the model:"
   ]
  },
  {
   "cell_type": "code",
   "execution_count": 51,
   "metadata": {},
   "outputs": [],
   "source": [
    "rf_features = pd.DataFrame(rf_clf.feature_importances_,\n",
    "                                   index = select_vars,\n",
    "                                   columns=['RF_Importance']).sort_values('RF_Importance',\n",
    "                                   ascending=False)"
   ]
  },
  {
   "cell_type": "code",
   "execution_count": 52,
   "metadata": {},
   "outputs": [
    {
     "data": {
      "text/html": [
       "<div>\n",
       "<style scoped>\n",
       "    .dataframe tbody tr th:only-of-type {\n",
       "        vertical-align: middle;\n",
       "    }\n",
       "\n",
       "    .dataframe tbody tr th {\n",
       "        vertical-align: top;\n",
       "    }\n",
       "\n",
       "    .dataframe thead th {\n",
       "        text-align: right;\n",
       "    }\n",
       "</style>\n",
       "<table border=\"1\" class=\"dataframe\">\n",
       "  <thead>\n",
       "    <tr style=\"text-align: right;\">\n",
       "      <th></th>\n",
       "      <th>RF_Importance</th>\n",
       "    </tr>\n",
       "  </thead>\n",
       "  <tbody>\n",
       "    <tr>\n",
       "      <th>avg_dist</th>\n",
       "      <td>0.317378</td>\n",
       "    </tr>\n",
       "    <tr>\n",
       "      <th>weekday_pct</th>\n",
       "      <td>0.159851</td>\n",
       "    </tr>\n",
       "    <tr>\n",
       "      <th>avg_rating_by_driver</th>\n",
       "      <td>0.114076</td>\n",
       "    </tr>\n",
       "    <tr>\n",
       "      <th>avg_surge</th>\n",
       "      <td>0.096237</td>\n",
       "    </tr>\n",
       "    <tr>\n",
       "      <th>trips_in_first_30_days</th>\n",
       "      <td>0.095088</td>\n",
       "    </tr>\n",
       "    <tr>\n",
       "      <th>avg_rating_of_driver</th>\n",
       "      <td>0.092019</td>\n",
       "    </tr>\n",
       "    <tr>\n",
       "      <th>kings_landing</th>\n",
       "      <td>0.039731</td>\n",
       "    </tr>\n",
       "    <tr>\n",
       "      <th>iphone</th>\n",
       "      <td>0.032182</td>\n",
       "    </tr>\n",
       "    <tr>\n",
       "      <th>ultimate_black_user</th>\n",
       "      <td>0.029805</td>\n",
       "    </tr>\n",
       "    <tr>\n",
       "      <th>astapor</th>\n",
       "      <td>0.013702</td>\n",
       "    </tr>\n",
       "    <tr>\n",
       "      <th>winterfell</th>\n",
       "      <td>0.009930</td>\n",
       "    </tr>\n",
       "  </tbody>\n",
       "</table>\n",
       "</div>"
      ],
      "text/plain": [
       "                        RF_Importance\n",
       "avg_dist                     0.317378\n",
       "weekday_pct                  0.159851\n",
       "avg_rating_by_driver         0.114076\n",
       "avg_surge                    0.096237\n",
       "trips_in_first_30_days       0.095088\n",
       "avg_rating_of_driver         0.092019\n",
       "kings_landing                0.039731\n",
       "iphone                       0.032182\n",
       "ultimate_black_user          0.029805\n",
       "astapor                      0.013702\n",
       "winterfell                   0.009930"
      ]
     },
     "execution_count": 52,
     "metadata": {},
     "output_type": "execute_result"
    }
   ],
   "source": [
    "rf_features"
   ]
  },
  {
   "cell_type": "markdown",
   "metadata": {},
   "source": [
    "### We'll combine all the features' contributions to the prediction from the three models to compare side-by-side:"
   ]
  },
  {
   "cell_type": "code",
   "execution_count": 53,
   "metadata": {},
   "outputs": [],
   "source": [
    "all_features = pd.concat([rf_features, lgr_features.LGR_Coefficient, svml_features], axis=1)"
   ]
  },
  {
   "cell_type": "code",
   "execution_count": 54,
   "metadata": {},
   "outputs": [
    {
     "data": {
      "text/html": [
       "<div>\n",
       "<style scoped>\n",
       "    .dataframe tbody tr th:only-of-type {\n",
       "        vertical-align: middle;\n",
       "    }\n",
       "\n",
       "    .dataframe tbody tr th {\n",
       "        vertical-align: top;\n",
       "    }\n",
       "\n",
       "    .dataframe thead th {\n",
       "        text-align: right;\n",
       "    }\n",
       "</style>\n",
       "<table border=\"1\" class=\"dataframe\">\n",
       "  <thead>\n",
       "    <tr style=\"text-align: right;\">\n",
       "      <th></th>\n",
       "      <th>RF_Importance</th>\n",
       "      <th>LGR_Coefficient</th>\n",
       "      <th>SVML_Weight</th>\n",
       "    </tr>\n",
       "  </thead>\n",
       "  <tbody>\n",
       "    <tr>\n",
       "      <th>astapor</th>\n",
       "      <td>0.013702</td>\n",
       "      <td>-0.812539</td>\n",
       "      <td>-0.336373</td>\n",
       "    </tr>\n",
       "    <tr>\n",
       "      <th>avg_dist</th>\n",
       "      <td>0.317378</td>\n",
       "      <td>-5.201561</td>\n",
       "      <td>-2.239596</td>\n",
       "    </tr>\n",
       "    <tr>\n",
       "      <th>avg_rating_by_driver</th>\n",
       "      <td>0.114076</td>\n",
       "      <td>-0.874023</td>\n",
       "      <td>-0.343769</td>\n",
       "    </tr>\n",
       "    <tr>\n",
       "      <th>avg_rating_of_driver</th>\n",
       "      <td>0.092019</td>\n",
       "      <td>-0.213532</td>\n",
       "      <td>-0.083597</td>\n",
       "    </tr>\n",
       "    <tr>\n",
       "      <th>avg_surge</th>\n",
       "      <td>0.096237</td>\n",
       "      <td>0.531756</td>\n",
       "      <td>0.215306</td>\n",
       "    </tr>\n",
       "    <tr>\n",
       "      <th>iphone</th>\n",
       "      <td>0.032182</td>\n",
       "      <td>1.041021</td>\n",
       "      <td>0.400565</td>\n",
       "    </tr>\n",
       "    <tr>\n",
       "      <th>kings_landing</th>\n",
       "      <td>0.039731</td>\n",
       "      <td>0.811177</td>\n",
       "      <td>0.346414</td>\n",
       "    </tr>\n",
       "    <tr>\n",
       "      <th>trips_in_first_30_days</th>\n",
       "      <td>0.095088</td>\n",
       "      <td>9.174945</td>\n",
       "      <td>4.191838</td>\n",
       "    </tr>\n",
       "    <tr>\n",
       "      <th>ultimate_black_user</th>\n",
       "      <td>0.029805</td>\n",
       "      <td>0.897173</td>\n",
       "      <td>0.369659</td>\n",
       "    </tr>\n",
       "    <tr>\n",
       "      <th>weekday_pct</th>\n",
       "      <td>0.159851</td>\n",
       "      <td>-0.078330</td>\n",
       "      <td>-0.031311</td>\n",
       "    </tr>\n",
       "    <tr>\n",
       "      <th>winterfell</th>\n",
       "      <td>0.009930</td>\n",
       "      <td>-0.294274</td>\n",
       "      <td>-0.135711</td>\n",
       "    </tr>\n",
       "  </tbody>\n",
       "</table>\n",
       "</div>"
      ],
      "text/plain": [
       "                        RF_Importance  LGR_Coefficient  SVML_Weight\n",
       "astapor                      0.013702        -0.812539    -0.336373\n",
       "avg_dist                     0.317378        -5.201561    -2.239596\n",
       "avg_rating_by_driver         0.114076        -0.874023    -0.343769\n",
       "avg_rating_of_driver         0.092019        -0.213532    -0.083597\n",
       "avg_surge                    0.096237         0.531756     0.215306\n",
       "iphone                       0.032182         1.041021     0.400565\n",
       "kings_landing                0.039731         0.811177     0.346414\n",
       "trips_in_first_30_days       0.095088         9.174945     4.191838\n",
       "ultimate_black_user          0.029805         0.897173     0.369659\n",
       "weekday_pct                  0.159851        -0.078330    -0.031311\n",
       "winterfell                   0.009930        -0.294274    -0.135711"
      ]
     },
     "execution_count": 54,
     "metadata": {},
     "output_type": "execute_result"
    }
   ],
   "source": [
    "all_features"
   ]
  },
  {
   "cell_type": "markdown",
   "metadata": {},
   "source": [
    "### To more clearly visualize side-by-side the way different models show features' contributions, we'll normalize the coefficients, weights and importances, after taking absolute values of the coefficients and weights:"
   ]
  },
  {
   "cell_type": "code",
   "execution_count": 55,
   "metadata": {},
   "outputs": [],
   "source": [
    "var_na = ['RF_Importance', \n",
    "          'LGR_Coefficient',\n",
    "          'SVML_Weight']\n",
    "\n",
    "for x in var_na:\n",
    "    all_features[x] = all_features[x].abs()\n",
    "    all_features[x] = (all_features[x] - all_features[x].min()) / \\\n",
    "                      (all_features[x].max() - all_features[x].min())"
   ]
  },
  {
   "cell_type": "code",
   "execution_count": 56,
   "metadata": {},
   "outputs": [
    {
     "data": {
      "text/plain": [
       "<matplotlib.axes._subplots.AxesSubplot at 0x7fd888a7a518>"
      ]
     },
     "execution_count": 56,
     "metadata": {},
     "output_type": "execute_result"
    },
    {
     "data": {
      "image/png": "[encoded data removed]",
      "text/plain": [
       "<matplotlib.figure.Figure at 0x7fd888a72630>"
      ]
     },
     "metadata": {},
     "output_type": "display_data"
    }
   ],
   "source": [
    "all_features.plot.bar(title='Normalized absolute values for features by model')"
   ]
  },
  {
   "cell_type": "markdown",
   "metadata": {},
   "source": [
    "### The above figure allows us to see which features show the most consistent relative magnitude of association with retention across models. \n",
    "\n",
    "### Number of trips in the first month and average trip distance clearly are important positive and negative predictors, respectively. King's Landing residence, Ultimate Black user, and iPhone user are moderate positive predictors. Astapor residence is a moderate negative predictor in the regression and SVM models. \n",
    "\n",
    "### Recall that rating by driver and average surge multiplier were not significant in the regression."
   ]
  },
  {
   "cell_type": "markdown",
   "metadata": {},
   "source": [
    "_(3) Briefly discuss how Ultimate might leverage the insights gained from the model to\n",
    "improve its long-term rider retention (again, a few sentences will suffice)._"
   ]
  },
  {
   "cell_type": "markdown",
   "metadata": {},
   "source": [
    "### Answer:\n",
    "\n",
    "The results of the logistic regression model, as supported by additional SVM and random forest modeling, indicate that number of trips in the first month, King's Landing residence, use of Ultimate Black, and iPhone use are positive predictors of rider retention, while average trip distance in the first month is a negative predictor. There is some evidence that Astapor residence is also a negative predictor.\n",
    "\n",
    "Efforts to improve rider retention may be focused on those characteristics of King's Landing and Astapor that could explain positive and negative impacts on retention, respectively. The negative impact of trip distance on retention might be mitigated by changes to pricing and surge algorithms based on mileage. The positive association of average trip number and iPhone use with retention may be self-explanatory. The relation between iPhone use and retention may benefit from further scrutiny, however, as it could indicate smartphone operating-system differences in the Ultimate app that impact rider experience. The positive association of Ultimate Black with retention suggest that inducing further use of this service among riders may lead to greater satisfaction and increase retention."
   ]
  },
  {
   "cell_type": "code",
   "execution_count": null,
   "metadata": {},
   "outputs": [],
   "source": []
  },
  {
   "cell_type": "markdown",
   "metadata": {},
   "source": [
    "#### Data description:\n",
    "\n",
    "city: city this user signed up in\n",
    "\n",
    "phone: primary device for this user\n",
    "\n",
    "signup_date: date of account registration; in the form ‘YYYYMMDD’\n",
    "\n",
    "last_trip_date: the last time this user completed a trip; in the form ‘YYYYMMDD’\n",
    "\n",
    "avg_dist: the average distance in miles per trip taken in the first 30 days after signup\n",
    "\n",
    "avg_rating_by_driver: the rider’s average rating over all of their trips\n",
    "\n",
    "avg_rating_of_driver: the rider’s average rating of their drivers over all of their trips\n",
    "\n",
    "surge_pct: the percent of trips taken with surge multiplier > 1\n",
    "\n",
    "avg_surge: The average surge multiplier over all of this user’s trips\n",
    "\n",
    "trips_in_first_30_days: the number of trips this user took in the first 30 days after\n",
    "signing up\n",
    "\n",
    "ultimate_black_user: TRUE if the user took an Ultimate Black in their first 30 days;\n",
    "FALSE otherwise\n",
    "\n",
    "weekday_pct: the percent of the user’s trips occurring during a weekday\n"
   ]
  },
  {
   "cell_type": "code",
   "execution_count": null,
   "metadata": {},
   "outputs": [],
   "source": []
  },
  {
   "cell_type": "code",
   "execution_count": null,
   "metadata": {},
   "outputs": [],
   "source": []
  }
 ],
 "metadata": {
  "kernelspec": {
   "display_name": "Python 3",
   "language": "python",
   "name": "python3"
  },
  "language_info": {
   "codemirror_mode": {
    "name": "ipython",
    "version": 3
   },
   "file_extension": ".py",
   "mimetype": "text/x-python",
   "name": "python",
   "nbconvert_exporter": "python",
   "pygments_lexer": "ipython3",
   "version": "3.6.5"
  }
 },
 "nbformat": 4,
 "nbformat_minor": 1
}
